{
  "cells": [
    {
      "cell_type": "code",
      "source": [
        "!pip install pandas googlenews newspaper3k mailtrap nltk fake-useragent"
      ],
      "metadata": {
        "colab": {
          "base_uri": "https://localhost:8080/"
        },
        "id": "s81EXLnQLFfg",
        "outputId": "2695a8bd-6b8e-4131-a831-4a98e3264fcf"
      },
      "id": "s81EXLnQLFfg",
      "execution_count": null,
      "outputs": [
        {
          "output_type": "stream",
          "name": "stdout",
          "text": [
            "Requirement already satisfied: pandas in /usr/local/lib/python3.10/dist-packages (2.0.3)\n",
            "Collecting googlenews\n",
            "  Downloading GoogleNews-1.6.14-py3-none-any.whl (8.5 kB)\n",
            "Collecting newspaper3k\n",
            "  Downloading newspaper3k-0.2.8-py3-none-any.whl (211 kB)\n",
            "\u001b[2K     \u001b[90m━━━━━━━━━━━━━━━━━━━━━━━━━━━━━━━━━━━━━━━━\u001b[0m \u001b[32m211.1/211.1 kB\u001b[0m \u001b[31m4.3 MB/s\u001b[0m eta \u001b[36m0:00:00\u001b[0m\n",
            "\u001b[?25hCollecting mailtrap\n",
            "  Downloading mailtrap-2.0.1-py3-none-any.whl (10 kB)\n",
            "Requirement already satisfied: nltk in /usr/local/lib/python3.10/dist-packages (3.8.1)\n",
            "Collecting fake-useragent\n",
            "  Downloading fake_useragent-1.5.1-py3-none-any.whl (17 kB)\n",
            "Requirement already satisfied: python-dateutil>=2.8.2 in /usr/local/lib/python3.10/dist-packages (from pandas) (2.8.2)\n",
            "Requirement already satisfied: pytz>=2020.1 in /usr/local/lib/python3.10/dist-packages (from pandas) (2023.4)\n",
            "Requirement already satisfied: tzdata>=2022.1 in /usr/local/lib/python3.10/dist-packages (from pandas) (2024.1)\n",
            "Requirement already satisfied: numpy>=1.21.0 in /usr/local/lib/python3.10/dist-packages (from pandas) (1.25.2)\n",
            "Requirement already satisfied: beautifulsoup4 in /usr/local/lib/python3.10/dist-packages (from googlenews) (4.12.3)\n",
            "Collecting dateparser (from googlenews)\n",
            "  Downloading dateparser-1.2.0-py2.py3-none-any.whl (294 kB)\n",
            "\u001b[2K     \u001b[90m━━━━━━━━━━━━━━━━━━━━━━━━━━━━━━━━━━━━━━━━\u001b[0m \u001b[32m295.0/295.0 kB\u001b[0m \u001b[31m19.4 MB/s\u001b[0m eta \u001b[36m0:00:00\u001b[0m\n",
            "\u001b[?25hRequirement already satisfied: Pillow>=3.3.0 in /usr/local/lib/python3.10/dist-packages (from newspaper3k) (9.4.0)\n",
            "Requirement already satisfied: PyYAML>=3.11 in /usr/local/lib/python3.10/dist-packages (from newspaper3k) (6.0.1)\n",
            "Collecting cssselect>=0.9.2 (from newspaper3k)\n",
            "  Downloading cssselect-1.2.0-py2.py3-none-any.whl (18 kB)\n",
            "Requirement already satisfied: lxml>=3.6.0 in /usr/local/lib/python3.10/dist-packages (from newspaper3k) (4.9.4)\n",
            "Requirement already satisfied: requests>=2.10.0 in /usr/local/lib/python3.10/dist-packages (from newspaper3k) (2.31.0)\n",
            "Collecting feedparser>=5.2.1 (from newspaper3k)\n",
            "  Downloading feedparser-6.0.11-py3-none-any.whl (81 kB)\n",
            "\u001b[2K     \u001b[90m━━━━━━━━━━━━━━━━━━━━━━━━━━━━━━━━━━━━━━━━\u001b[0m \u001b[32m81.3/81.3 kB\u001b[0m \u001b[31m7.4 MB/s\u001b[0m eta \u001b[36m0:00:00\u001b[0m\n",
            "\u001b[?25hCollecting tldextract>=2.0.1 (from newspaper3k)\n",
            "  Downloading tldextract-5.1.2-py3-none-any.whl (97 kB)\n",
            "\u001b[2K     \u001b[90m━━━━━━━━━━━━━━━━━━━━━━━━━━━━━━━━━━━━━━━━\u001b[0m \u001b[32m97.6/97.6 kB\u001b[0m \u001b[31m8.4 MB/s\u001b[0m eta \u001b[36m0:00:00\u001b[0m\n",
            "\u001b[?25hCollecting feedfinder2>=0.0.4 (from newspaper3k)\n",
            "  Downloading feedfinder2-0.0.4.tar.gz (3.3 kB)\n",
            "  Preparing metadata (setup.py) ... \u001b[?25l\u001b[?25hdone\n",
            "Collecting jieba3k>=0.35.1 (from newspaper3k)\n",
            "  Downloading jieba3k-0.35.1.zip (7.4 MB)\n",
            "\u001b[2K     \u001b[90m━━━━━━━━━━━━━━━━━━━━━━━━━━━━━━━━━━━━━━━━\u001b[0m \u001b[32m7.4/7.4 MB\u001b[0m \u001b[31m30.5 MB/s\u001b[0m eta \u001b[36m0:00:00\u001b[0m\n",
            "\u001b[?25h  Preparing metadata (setup.py) ... \u001b[?25l\u001b[?25hdone\n",
            "Collecting tinysegmenter==0.3 (from newspaper3k)\n",
            "  Downloading tinysegmenter-0.3.tar.gz (16 kB)\n",
            "  Preparing metadata (setup.py) ... \u001b[?25l\u001b[?25hdone\n",
            "Requirement already satisfied: click in /usr/local/lib/python3.10/dist-packages (from nltk) (8.1.7)\n",
            "Requirement already satisfied: joblib in /usr/local/lib/python3.10/dist-packages (from nltk) (1.4.2)\n",
            "Requirement already satisfied: regex>=2021.8.3 in /usr/local/lib/python3.10/dist-packages (from nltk) (2024.5.15)\n",
            "Requirement already satisfied: tqdm in /usr/local/lib/python3.10/dist-packages (from nltk) (4.66.4)\n",
            "Requirement already satisfied: soupsieve>1.2 in /usr/local/lib/python3.10/dist-packages (from beautifulsoup4->googlenews) (2.5)\n",
            "Requirement already satisfied: six in /usr/local/lib/python3.10/dist-packages (from feedfinder2>=0.0.4->newspaper3k) (1.16.0)\n",
            "Collecting sgmllib3k (from feedparser>=5.2.1->newspaper3k)\n",
            "  Downloading sgmllib3k-1.0.0.tar.gz (5.8 kB)\n",
            "  Preparing metadata (setup.py) ... \u001b[?25l\u001b[?25hdone\n",
            "Requirement already satisfied: charset-normalizer<4,>=2 in /usr/local/lib/python3.10/dist-packages (from requests>=2.10.0->newspaper3k) (3.3.2)\n",
            "Requirement already satisfied: idna<4,>=2.5 in /usr/local/lib/python3.10/dist-packages (from requests>=2.10.0->newspaper3k) (3.7)\n",
            "Requirement already satisfied: urllib3<3,>=1.21.1 in /usr/local/lib/python3.10/dist-packages (from requests>=2.10.0->newspaper3k) (2.0.7)\n",
            "Requirement already satisfied: certifi>=2017.4.17 in /usr/local/lib/python3.10/dist-packages (from requests>=2.10.0->newspaper3k) (2024.7.4)\n",
            "Collecting requests-file>=1.4 (from tldextract>=2.0.1->newspaper3k)\n",
            "  Downloading requests_file-2.1.0-py2.py3-none-any.whl (4.2 kB)\n",
            "Requirement already satisfied: filelock>=3.0.8 in /usr/local/lib/python3.10/dist-packages (from tldextract>=2.0.1->newspaper3k) (3.15.4)\n",
            "Requirement already satisfied: tzlocal in /usr/local/lib/python3.10/dist-packages (from dateparser->googlenews) (5.2)\n",
            "Building wheels for collected packages: tinysegmenter, feedfinder2, jieba3k, sgmllib3k\n",
            "  Building wheel for tinysegmenter (setup.py) ... \u001b[?25l\u001b[?25hdone\n",
            "  Created wheel for tinysegmenter: filename=tinysegmenter-0.3-py3-none-any.whl size=13538 sha256=409e8e63eb3d5742c566b7dcafdd0dacbe4d06039b77a8d2c9935df690347a35\n",
            "  Stored in directory: /root/.cache/pip/wheels/c8/d6/6c/384f58df48c00b9a31d638005143b5b3ac62c3d25fb1447f23\n",
            "  Building wheel for feedfinder2 (setup.py) ... \u001b[?25l\u001b[?25hdone\n",
            "  Created wheel for feedfinder2: filename=feedfinder2-0.0.4-py3-none-any.whl size=3340 sha256=af26f1baceefe479240b7cb4b3886ad9d1103ed1a9a64102aa1f60b3d034f324\n",
            "  Stored in directory: /root/.cache/pip/wheels/97/02/e7/a1ff1760e12bdbaab0ac824fae5c1bc933e41c4ccd6a8f8edb\n",
            "  Building wheel for jieba3k (setup.py) ... \u001b[?25l\u001b[?25hdone\n",
            "  Created wheel for jieba3k: filename=jieba3k-0.35.1-py3-none-any.whl size=7398382 sha256=c0c82585511328f424d83f07cda6a87cf2766aa4fba0c8cf93901aefb64225f1\n",
            "  Stored in directory: /root/.cache/pip/wheels/7a/c4/0c/12a9a314ecac499456c4c3b2fcc2f635a3b45a39dfbd240299\n",
            "  Building wheel for sgmllib3k (setup.py) ... \u001b[?25l\u001b[?25hdone\n",
            "  Created wheel for sgmllib3k: filename=sgmllib3k-1.0.0-py3-none-any.whl size=6049 sha256=9620f4ae374a426a697a2c6178e49a672ea719bfd86536c018c0c9e21ea47dff\n",
            "  Stored in directory: /root/.cache/pip/wheels/f0/69/93/a47e9d621be168e9e33c7ce60524393c0b92ae83cf6c6e89c5\n",
            "Successfully built tinysegmenter feedfinder2 jieba3k sgmllib3k\n",
            "Installing collected packages: tinysegmenter, sgmllib3k, jieba3k, fake-useragent, feedparser, cssselect, requests-file, mailtrap, feedfinder2, dateparser, tldextract, googlenews, newspaper3k\n",
            "Successfully installed cssselect-1.2.0 dateparser-1.2.0 fake-useragent-1.5.1 feedfinder2-0.0.4 feedparser-6.0.11 googlenews-1.6.14 jieba3k-0.35.1 mailtrap-2.0.1 newspaper3k-0.2.8 requests-file-2.1.0 sgmllib3k-1.0.0 tinysegmenter-0.3 tldextract-5.1.2\n"
          ]
        }
      ]
    },
    {
      "cell_type": "code",
      "execution_count": null,
      "id": "840cfbe8",
      "metadata": {
        "id": "840cfbe8"
      },
      "outputs": [],
      "source": [
        "# Import necessary libraries\n",
        "from GoogleNews import GoogleNews\n",
        "import pandas as pd\n",
        "import requests\n",
        "from fake_useragent import UserAgent\n",
        "import newspaper\n",
        "from newspaper import fulltext\n",
        "import re"
      ]
    },
    {
      "cell_type": "code",
      "execution_count": null,
      "id": "02851823",
      "metadata": {
        "id": "02851823"
      },
      "outputs": [],
      "source": [
        "# Define the keyword to search.\n",
        "keyword = 'Meta Llama'"
      ]
    },
    {
      "cell_type": "code",
      "execution_count": null,
      "id": "cbe09fda",
      "metadata": {
        "id": "cbe09fda"
      },
      "outputs": [],
      "source": [
        "# Perform news scraping from Google and extract the result into Pandas dataframe.\n",
        "googlenews = GoogleNews(lang='en', region='US', period='1d', encode='utf-8')\n",
        "googlenews.clear()\n",
        "googlenews.search(keyword)\n",
        "googlenews.get_page(2)\n",
        "news_result = googlenews.result(sort=True)\n",
        "news_data_df = pd.DataFrame.from_dict(news_result)"
      ]
    },
    {
      "cell_type": "code",
      "execution_count": null,
      "id": "23b2e865",
      "metadata": {
        "colab": {
          "base_uri": "https://localhost:8080/"
        },
        "id": "23b2e865",
        "outputId": "6bdb5745-20cb-4bb1-fb57-c377f8d92bb0"
      },
      "outputs": [
        {
          "output_type": "stream",
          "name": "stdout",
          "text": [
            "<class 'pandas.core.frame.DataFrame'>\n",
            "RangeIndex: 20 entries, 0 to 19\n",
            "Data columns (total 7 columns):\n",
            " #   Column    Non-Null Count  Dtype         \n",
            "---  ------    --------------  -----         \n",
            " 0   title     20 non-null     object        \n",
            " 1   media     20 non-null     object        \n",
            " 2   date      20 non-null     object        \n",
            " 3   datetime  20 non-null     datetime64[ns]\n",
            " 4   desc      20 non-null     object        \n",
            " 5   link      20 non-null     object        \n",
            " 6   img       20 non-null     object        \n",
            "dtypes: datetime64[ns](1), object(6)\n",
            "memory usage: 1.2+ KB\n"
          ]
        }
      ],
      "source": [
        "# Display information of dataframe.\n",
        "news_data_df.info()"
      ]
    },
    {
      "cell_type": "code",
      "execution_count": null,
      "id": "6a28d0e7",
      "metadata": {
        "colab": {
          "base_uri": "https://localhost:8080/",
          "height": 1000
        },
        "id": "6a28d0e7",
        "outputId": "3243e076-f303-498f-f080-5ca70fa7eea7"
      },
      "outputs": [
        {
          "output_type": "execute_result",
          "data": {
            "text/plain": [
              "                                                title  \\\n",
              "0   Meta AI Expands Reach, Adds Languages and Crea...   \n",
              "1   Meta’s Largest Llama Model Lands With Fewer Ca...   \n",
              "2              Meta Platforms Launches New A.I. Model   \n",
              "3   How Meta's Game-Changing AI Model Could Enhanc...   \n",
              "4   Meta aims for AI dominance with the release of...   \n",
              "5   Groq Introduces Llama 3.1 Models to Public, Ac...   \n",
              "6   Meta rolls out new open-source AI large langua...   \n",
              "7        How to Use Llama 3.1 405B AI Model Right Now   \n",
              "8        Meta Releases Open Source Llama 3.1 AI Model   \n",
              "9   Meta Llama 3.1 is one of the most important AI...   \n",
              "10  Meta’s Llama 3.1 promises to compete with clos...   \n",
              "11  Meta advances open source AI with ‘frontier-le...   \n",
              "12   3 ways Meta's Llama 3.1 is an advance for Gen AI   \n",
              "13      Meta introduces Meta Llama 3.1 405B AI Model    \n",
              "14             Everybody seems to love Zuck right now   \n",
              "15  WhatsApp to Get a Major Meta AI Upgrade With I...   \n",
              "16  All you need to know about Llama 3.1, Meta's b...   \n",
              "17  The ‘Linux Moment’ in AI Has Finally Arrived, ...   \n",
              "18  Meta grows ahead of ChatGPT with Llama 3.1: al...   \n",
              "19  Meta releases Llama 3.1, its latest 'ChatGPT-k...   \n",
              "\n",
              "                       media           date                   datetime  \\\n",
              "0                  WinBuzzer  2 minutes ago 2024-07-24 14:49:58.181208   \n",
              "1            The Information  2 minutes ago 2024-07-24 14:49:58.179524   \n",
              "2               Baystreet.ca  3 minutes ago 2024-07-24 14:48:58.174406   \n",
              "3        www.tradingview.com  4 minutes ago 2024-07-24 14:47:58.168755   \n",
              "4              RedShark News  6 minutes ago 2024-07-24 14:45:58.177833   \n",
              "5                   Datanami  6 minutes ago 2024-07-24 14:45:58.176134   \n",
              "6               Tech Monitor  7 minutes ago 2024-07-24 14:44:58.172687   \n",
              "7            Paradise - News  7 minutes ago 2024-07-24 14:44:58.163162   \n",
              "8                 Silicon UK  9 minutes ago 2024-07-24 14:42:58.170968   \n",
              "9                Tom's Guide     1 hour ago 2024-07-24 13:51:58.560843   \n",
              "10                    IT Pro     1 hour ago 2024-07-24 13:51:58.190145   \n",
              "11                   AI News    2 hours ago 2024-07-24 12:51:58.652943   \n",
              "12                     ZDNET    2 hours ago 2024-07-24 12:51:58.633328   \n",
              "13     The Financial Express    2 hours ago 2024-07-24 12:51:58.606226   \n",
              "14          Business Insider    2 hours ago 2024-07-24 12:51:58.579834   \n",
              "15               Gadgets 360    2 hours ago 2024-07-24 12:51:58.570157   \n",
              "16           National Herald    3 hours ago 2024-07-24 11:51:58.682321   \n",
              "17  Analytics India Magazine    3 hours ago 2024-07-24 11:51:58.668400   \n",
              "18                  Gearrice    4 hours ago 2024-07-24 10:51:58.710588   \n",
              "19                 Firstpost    4 hours ago 2024-07-24 10:51:58.696068   \n",
              "\n",
              "                                                 desc  \\\n",
              "0   The Meta AI assistant, which is integrated int...   \n",
              "1   If you haven't caught our analysis of OpenAI's...   \n",
              "2   Meta Platforms (META) has launched a new versi...   \n",
              "3   Meta Platforms Inc NASDAQ:META has unveiled it...   \n",
              "4   Meta introduces Llama 3.1, an advanced open so...   \n",
              "5   MOUNTAIN VIEW, Calif., July 24, 2024 -- Groq, ...   \n",
              "6   Llama 3.1 has been designed to drive new appli...   \n",
              "7   Meta has introduced its largest Llama 3.1 405B...   \n",
              "8   Release of latest AI model, Llama 405B, offers...   \n",
              "9   Meta's Llama 3.1 is now widely available inclu...   \n",
              "10  Social media giant reveals its most powerful o...   \n",
              "11  Meta has unveiled Llama 3.1, marking a signifi...   \n",
              "12  Three key design decisions by Meta scientists ...   \n",
              "13  Meta announced the launch of its latest and la...   \n",
              "14  Mark Zuckerberg is winning praise from rivals ...   \n",
              "15  WhatsApp is set for a major artificial intelli...   \n",
              "16  Announced on Tuesday, 23 July, by CEO Mark Zuc...   \n",
              "17  Developers can run inference on Llama 3.1 405B...   \n",
              "18  Summer used to be a rather quiet time for big ...   \n",
              "19  Llama 3.1 is Meta's most advanced AI model to ...   \n",
              "\n",
              "                                                 link  \\\n",
              "0   https://winbuzzer.com/2024/07/24/meta-ai-expan...   \n",
              "1   https://www.theinformation.com/articles/metas-...   \n",
              "2   http://www.baystreet.ca/articles/stockstowatch...   \n",
              "3   https://www.tradingview.com/news/benzinga:add5...   \n",
              "4   https://www.redsharknews.com/meta-aims-for-ai-...   \n",
              "5   https://www.datanami.com/this-just-in/groq-int...   \n",
              "6   https://techmonitor.ai/technology/ai-and-autom...   \n",
              "7   https://theparadise.ng/how-to-use-llama-3-1-40...   \n",
              "8   https://www.silicon.co.uk/ai/meta-releases-ope...   \n",
              "9   https://www.tomsguide.com/ai/meta-llama-31-is-...   \n",
              "10  https://www.itpro.com/technology/artificial-in...   \n",
              "11  https://www.artificialintelligence-news.com/ne...   \n",
              "12  https://www.zdnet.com/article/3-ways-metas-lla...   \n",
              "13  https://www.financialexpress.com/web-stories/t...   \n",
              "14  https://www.businessinsider.com/mark-zuckerber...   \n",
              "15  https://www.gadgets360.com/ai/news/whatsapp-me...   \n",
              "16  https://www.nationalheraldindia.com/science-te...   \n",
              "17  https://analyticsindiamag.com/ai-insights-anal...   \n",
              "18  https://www.gearrice.com/update/meta-grows-ahe...   \n",
              "19  https://www.firstpost.com/tech/meta-releases-l...   \n",
              "\n",
              "                                                  img  \n",
              "0   data:image/gif;base64,R0lGODlhAQABAIAAAP//////...  \n",
              "1   data:image/gif;base64,R0lGODlhAQABAIAAAP//////...  \n",
              "2   data:image/gif;base64,R0lGODlhAQABAIAAAP//////...  \n",
              "3   data:image/gif;base64,R0lGODlhAQABAIAAAP//////...  \n",
              "4   data:image/gif;base64,R0lGODlhAQABAIAAAP//////...  \n",
              "5   data:image/gif;base64,R0lGODlhAQABAIAAAP//////...  \n",
              "6   data:image/gif;base64,R0lGODlhAQABAIAAAP//////...  \n",
              "7   data:image/gif;base64,R0lGODlhAQABAIAAAP//////...  \n",
              "8   data:image/gif;base64,R0lGODlhAQABAIAAAP//////...  \n",
              "9   data:image/gif;base64,R0lGODlhAQABAIAAAP//////...  \n",
              "10  data:image/gif;base64,R0lGODlhAQABAIAAAP//////...  \n",
              "11  data:image/gif;base64,R0lGODlhAQABAIAAAP//////...  \n",
              "12  data:image/gif;base64,R0lGODlhAQABAIAAAP//////...  \n",
              "13  data:image/gif;base64,R0lGODlhAQABAIAAAP//////...  \n",
              "14  data:image/gif;base64,R0lGODlhAQABAIAAAP//////...  \n",
              "15  data:image/gif;base64,R0lGODlhAQABAIAAAP//////...  \n",
              "16  data:image/gif;base64,R0lGODlhAQABAIAAAP//////...  \n",
              "17  data:image/gif;base64,R0lGODlhAQABAIAAAP//////...  \n",
              "18  data:image/gif;base64,R0lGODlhAQABAIAAAP//////...  \n",
              "19  data:image/gif;base64,R0lGODlhAQABAIAAAP//////...  "
            ],
            "text/html": [
              "\n",
              "  <div id=\"df-924a7615-9cb1-4cfb-aa92-5a9ea206a1bf\" class=\"colab-df-container\">\n",
              "    <div>\n",
              "<style scoped>\n",
              "    .dataframe tbody tr th:only-of-type {\n",
              "        vertical-align: middle;\n",
              "    }\n",
              "\n",
              "    .dataframe tbody tr th {\n",
              "        vertical-align: top;\n",
              "    }\n",
              "\n",
              "    .dataframe thead th {\n",
              "        text-align: right;\n",
              "    }\n",
              "</style>\n",
              "<table border=\"1\" class=\"dataframe\">\n",
              "  <thead>\n",
              "    <tr style=\"text-align: right;\">\n",
              "      <th></th>\n",
              "      <th>title</th>\n",
              "      <th>media</th>\n",
              "      <th>date</th>\n",
              "      <th>datetime</th>\n",
              "      <th>desc</th>\n",
              "      <th>link</th>\n",
              "      <th>img</th>\n",
              "    </tr>\n",
              "  </thead>\n",
              "  <tbody>\n",
              "    <tr>\n",
              "      <th>0</th>\n",
              "      <td>Meta AI Expands Reach, Adds Languages and Crea...</td>\n",
              "      <td>WinBuzzer</td>\n",
              "      <td>2 minutes ago</td>\n",
              "      <td>2024-07-24 14:49:58.181208</td>\n",
              "      <td>The Meta AI assistant, which is integrated int...</td>\n",
              "      <td>https://winbuzzer.com/2024/07/24/meta-ai-expan...</td>\n",
              "      <td>data:image/gif;base64,R0lGODlhAQABAIAAAP//////...</td>\n",
              "    </tr>\n",
              "    <tr>\n",
              "      <th>1</th>\n",
              "      <td>Meta’s Largest Llama Model Lands With Fewer Ca...</td>\n",
              "      <td>The Information</td>\n",
              "      <td>2 minutes ago</td>\n",
              "      <td>2024-07-24 14:49:58.179524</td>\n",
              "      <td>If you haven't caught our analysis of OpenAI's...</td>\n",
              "      <td>https://www.theinformation.com/articles/metas-...</td>\n",
              "      <td>data:image/gif;base64,R0lGODlhAQABAIAAAP//////...</td>\n",
              "    </tr>\n",
              "    <tr>\n",
              "      <th>2</th>\n",
              "      <td>Meta Platforms Launches New A.I. Model</td>\n",
              "      <td>Baystreet.ca</td>\n",
              "      <td>3 minutes ago</td>\n",
              "      <td>2024-07-24 14:48:58.174406</td>\n",
              "      <td>Meta Platforms (META) has launched a new versi...</td>\n",
              "      <td>http://www.baystreet.ca/articles/stockstowatch...</td>\n",
              "      <td>data:image/gif;base64,R0lGODlhAQABAIAAAP//////...</td>\n",
              "    </tr>\n",
              "    <tr>\n",
              "      <th>3</th>\n",
              "      <td>How Meta's Game-Changing AI Model Could Enhanc...</td>\n",
              "      <td>www.tradingview.com</td>\n",
              "      <td>4 minutes ago</td>\n",
              "      <td>2024-07-24 14:47:58.168755</td>\n",
              "      <td>Meta Platforms Inc NASDAQ:META has unveiled it...</td>\n",
              "      <td>https://www.tradingview.com/news/benzinga:add5...</td>\n",
              "      <td>data:image/gif;base64,R0lGODlhAQABAIAAAP//////...</td>\n",
              "    </tr>\n",
              "    <tr>\n",
              "      <th>4</th>\n",
              "      <td>Meta aims for AI dominance with the release of...</td>\n",
              "      <td>RedShark News</td>\n",
              "      <td>6 minutes ago</td>\n",
              "      <td>2024-07-24 14:45:58.177833</td>\n",
              "      <td>Meta introduces Llama 3.1, an advanced open so...</td>\n",
              "      <td>https://www.redsharknews.com/meta-aims-for-ai-...</td>\n",
              "      <td>data:image/gif;base64,R0lGODlhAQABAIAAAP//////...</td>\n",
              "    </tr>\n",
              "    <tr>\n",
              "      <th>5</th>\n",
              "      <td>Groq Introduces Llama 3.1 Models to Public, Ac...</td>\n",
              "      <td>Datanami</td>\n",
              "      <td>6 minutes ago</td>\n",
              "      <td>2024-07-24 14:45:58.176134</td>\n",
              "      <td>MOUNTAIN VIEW, Calif., July 24, 2024 -- Groq, ...</td>\n",
              "      <td>https://www.datanami.com/this-just-in/groq-int...</td>\n",
              "      <td>data:image/gif;base64,R0lGODlhAQABAIAAAP//////...</td>\n",
              "    </tr>\n",
              "    <tr>\n",
              "      <th>6</th>\n",
              "      <td>Meta rolls out new open-source AI large langua...</td>\n",
              "      <td>Tech Monitor</td>\n",
              "      <td>7 minutes ago</td>\n",
              "      <td>2024-07-24 14:44:58.172687</td>\n",
              "      <td>Llama 3.1 has been designed to drive new appli...</td>\n",
              "      <td>https://techmonitor.ai/technology/ai-and-autom...</td>\n",
              "      <td>data:image/gif;base64,R0lGODlhAQABAIAAAP//////...</td>\n",
              "    </tr>\n",
              "    <tr>\n",
              "      <th>7</th>\n",
              "      <td>How to Use Llama 3.1 405B AI Model Right Now</td>\n",
              "      <td>Paradise - News</td>\n",
              "      <td>7 minutes ago</td>\n",
              "      <td>2024-07-24 14:44:58.163162</td>\n",
              "      <td>Meta has introduced its largest Llama 3.1 405B...</td>\n",
              "      <td>https://theparadise.ng/how-to-use-llama-3-1-40...</td>\n",
              "      <td>data:image/gif;base64,R0lGODlhAQABAIAAAP//////...</td>\n",
              "    </tr>\n",
              "    <tr>\n",
              "      <th>8</th>\n",
              "      <td>Meta Releases Open Source Llama 3.1 AI Model</td>\n",
              "      <td>Silicon UK</td>\n",
              "      <td>9 minutes ago</td>\n",
              "      <td>2024-07-24 14:42:58.170968</td>\n",
              "      <td>Release of latest AI model, Llama 405B, offers...</td>\n",
              "      <td>https://www.silicon.co.uk/ai/meta-releases-ope...</td>\n",
              "      <td>data:image/gif;base64,R0lGODlhAQABAIAAAP//////...</td>\n",
              "    </tr>\n",
              "    <tr>\n",
              "      <th>9</th>\n",
              "      <td>Meta Llama 3.1 is one of the most important AI...</td>\n",
              "      <td>Tom's Guide</td>\n",
              "      <td>1 hour ago</td>\n",
              "      <td>2024-07-24 13:51:58.560843</td>\n",
              "      <td>Meta's Llama 3.1 is now widely available inclu...</td>\n",
              "      <td>https://www.tomsguide.com/ai/meta-llama-31-is-...</td>\n",
              "      <td>data:image/gif;base64,R0lGODlhAQABAIAAAP//////...</td>\n",
              "    </tr>\n",
              "    <tr>\n",
              "      <th>10</th>\n",
              "      <td>Meta’s Llama 3.1 promises to compete with clos...</td>\n",
              "      <td>IT Pro</td>\n",
              "      <td>1 hour ago</td>\n",
              "      <td>2024-07-24 13:51:58.190145</td>\n",
              "      <td>Social media giant reveals its most powerful o...</td>\n",
              "      <td>https://www.itpro.com/technology/artificial-in...</td>\n",
              "      <td>data:image/gif;base64,R0lGODlhAQABAIAAAP//////...</td>\n",
              "    </tr>\n",
              "    <tr>\n",
              "      <th>11</th>\n",
              "      <td>Meta advances open source AI with ‘frontier-le...</td>\n",
              "      <td>AI News</td>\n",
              "      <td>2 hours ago</td>\n",
              "      <td>2024-07-24 12:51:58.652943</td>\n",
              "      <td>Meta has unveiled Llama 3.1, marking a signifi...</td>\n",
              "      <td>https://www.artificialintelligence-news.com/ne...</td>\n",
              "      <td>data:image/gif;base64,R0lGODlhAQABAIAAAP//////...</td>\n",
              "    </tr>\n",
              "    <tr>\n",
              "      <th>12</th>\n",
              "      <td>3 ways Meta's Llama 3.1 is an advance for Gen AI</td>\n",
              "      <td>ZDNET</td>\n",
              "      <td>2 hours ago</td>\n",
              "      <td>2024-07-24 12:51:58.633328</td>\n",
              "      <td>Three key design decisions by Meta scientists ...</td>\n",
              "      <td>https://www.zdnet.com/article/3-ways-metas-lla...</td>\n",
              "      <td>data:image/gif;base64,R0lGODlhAQABAIAAAP//////...</td>\n",
              "    </tr>\n",
              "    <tr>\n",
              "      <th>13</th>\n",
              "      <td>Meta introduces Meta Llama 3.1 405B AI Model</td>\n",
              "      <td>The Financial Express</td>\n",
              "      <td>2 hours ago</td>\n",
              "      <td>2024-07-24 12:51:58.606226</td>\n",
              "      <td>Meta announced the launch of its latest and la...</td>\n",
              "      <td>https://www.financialexpress.com/web-stories/t...</td>\n",
              "      <td>data:image/gif;base64,R0lGODlhAQABAIAAAP//////...</td>\n",
              "    </tr>\n",
              "    <tr>\n",
              "      <th>14</th>\n",
              "      <td>Everybody seems to love Zuck right now</td>\n",
              "      <td>Business Insider</td>\n",
              "      <td>2 hours ago</td>\n",
              "      <td>2024-07-24 12:51:58.579834</td>\n",
              "      <td>Mark Zuckerberg is winning praise from rivals ...</td>\n",
              "      <td>https://www.businessinsider.com/mark-zuckerber...</td>\n",
              "      <td>data:image/gif;base64,R0lGODlhAQABAIAAAP//////...</td>\n",
              "    </tr>\n",
              "    <tr>\n",
              "      <th>15</th>\n",
              "      <td>WhatsApp to Get a Major Meta AI Upgrade With I...</td>\n",
              "      <td>Gadgets 360</td>\n",
              "      <td>2 hours ago</td>\n",
              "      <td>2024-07-24 12:51:58.570157</td>\n",
              "      <td>WhatsApp is set for a major artificial intelli...</td>\n",
              "      <td>https://www.gadgets360.com/ai/news/whatsapp-me...</td>\n",
              "      <td>data:image/gif;base64,R0lGODlhAQABAIAAAP//////...</td>\n",
              "    </tr>\n",
              "    <tr>\n",
              "      <th>16</th>\n",
              "      <td>All you need to know about Llama 3.1, Meta's b...</td>\n",
              "      <td>National Herald</td>\n",
              "      <td>3 hours ago</td>\n",
              "      <td>2024-07-24 11:51:58.682321</td>\n",
              "      <td>Announced on Tuesday, 23 July, by CEO Mark Zuc...</td>\n",
              "      <td>https://www.nationalheraldindia.com/science-te...</td>\n",
              "      <td>data:image/gif;base64,R0lGODlhAQABAIAAAP//////...</td>\n",
              "    </tr>\n",
              "    <tr>\n",
              "      <th>17</th>\n",
              "      <td>The ‘Linux Moment’ in AI Has Finally Arrived, ...</td>\n",
              "      <td>Analytics India Magazine</td>\n",
              "      <td>3 hours ago</td>\n",
              "      <td>2024-07-24 11:51:58.668400</td>\n",
              "      <td>Developers can run inference on Llama 3.1 405B...</td>\n",
              "      <td>https://analyticsindiamag.com/ai-insights-anal...</td>\n",
              "      <td>data:image/gif;base64,R0lGODlhAQABAIAAAP//////...</td>\n",
              "    </tr>\n",
              "    <tr>\n",
              "      <th>18</th>\n",
              "      <td>Meta grows ahead of ChatGPT with Llama 3.1: al...</td>\n",
              "      <td>Gearrice</td>\n",
              "      <td>4 hours ago</td>\n",
              "      <td>2024-07-24 10:51:58.710588</td>\n",
              "      <td>Summer used to be a rather quiet time for big ...</td>\n",
              "      <td>https://www.gearrice.com/update/meta-grows-ahe...</td>\n",
              "      <td>data:image/gif;base64,R0lGODlhAQABAIAAAP//////...</td>\n",
              "    </tr>\n",
              "    <tr>\n",
              "      <th>19</th>\n",
              "      <td>Meta releases Llama 3.1, its latest 'ChatGPT-k...</td>\n",
              "      <td>Firstpost</td>\n",
              "      <td>4 hours ago</td>\n",
              "      <td>2024-07-24 10:51:58.696068</td>\n",
              "      <td>Llama 3.1 is Meta's most advanced AI model to ...</td>\n",
              "      <td>https://www.firstpost.com/tech/meta-releases-l...</td>\n",
              "      <td>data:image/gif;base64,R0lGODlhAQABAIAAAP//////...</td>\n",
              "    </tr>\n",
              "  </tbody>\n",
              "</table>\n",
              "</div>\n",
              "    <div class=\"colab-df-buttons\">\n",
              "\n",
              "  <div class=\"colab-df-container\">\n",
              "    <button class=\"colab-df-convert\" onclick=\"convertToInteractive('df-924a7615-9cb1-4cfb-aa92-5a9ea206a1bf')\"\n",
              "            title=\"Convert this dataframe to an interactive table.\"\n",
              "            style=\"display:none;\">\n",
              "\n",
              "  <svg xmlns=\"http://www.w3.org/2000/svg\" height=\"24px\" viewBox=\"0 -960 960 960\">\n",
              "    <path d=\"M120-120v-720h720v720H120Zm60-500h600v-160H180v160Zm220 220h160v-160H400v160Zm0 220h160v-160H400v160ZM180-400h160v-160H180v160Zm440 0h160v-160H620v160ZM180-180h160v-160H180v160Zm440 0h160v-160H620v160Z\"/>\n",
              "  </svg>\n",
              "    </button>\n",
              "\n",
              "  <style>\n",
              "    .colab-df-container {\n",
              "      display:flex;\n",
              "      gap: 12px;\n",
              "    }\n",
              "\n",
              "    .colab-df-convert {\n",
              "      background-color: #E8F0FE;\n",
              "      border: none;\n",
              "      border-radius: 50%;\n",
              "      cursor: pointer;\n",
              "      display: none;\n",
              "      fill: #1967D2;\n",
              "      height: 32px;\n",
              "      padding: 0 0 0 0;\n",
              "      width: 32px;\n",
              "    }\n",
              "\n",
              "    .colab-df-convert:hover {\n",
              "      background-color: #E2EBFA;\n",
              "      box-shadow: 0px 1px 2px rgba(60, 64, 67, 0.3), 0px 1px 3px 1px rgba(60, 64, 67, 0.15);\n",
              "      fill: #174EA6;\n",
              "    }\n",
              "\n",
              "    .colab-df-buttons div {\n",
              "      margin-bottom: 4px;\n",
              "    }\n",
              "\n",
              "    [theme=dark] .colab-df-convert {\n",
              "      background-color: #3B4455;\n",
              "      fill: #D2E3FC;\n",
              "    }\n",
              "\n",
              "    [theme=dark] .colab-df-convert:hover {\n",
              "      background-color: #434B5C;\n",
              "      box-shadow: 0px 1px 3px 1px rgba(0, 0, 0, 0.15);\n",
              "      filter: drop-shadow(0px 1px 2px rgba(0, 0, 0, 0.3));\n",
              "      fill: #FFFFFF;\n",
              "    }\n",
              "  </style>\n",
              "\n",
              "    <script>\n",
              "      const buttonEl =\n",
              "        document.querySelector('#df-924a7615-9cb1-4cfb-aa92-5a9ea206a1bf button.colab-df-convert');\n",
              "      buttonEl.style.display =\n",
              "        google.colab.kernel.accessAllowed ? 'block' : 'none';\n",
              "\n",
              "      async function convertToInteractive(key) {\n",
              "        const element = document.querySelector('#df-924a7615-9cb1-4cfb-aa92-5a9ea206a1bf');\n",
              "        const dataTable =\n",
              "          await google.colab.kernel.invokeFunction('convertToInteractive',\n",
              "                                                    [key], {});\n",
              "        if (!dataTable) return;\n",
              "\n",
              "        const docLinkHtml = 'Like what you see? Visit the ' +\n",
              "          '<a target=\"_blank\" href=https://colab.research.google.com/notebooks/data_table.ipynb>data table notebook</a>'\n",
              "          + ' to learn more about interactive tables.';\n",
              "        element.innerHTML = '';\n",
              "        dataTable['output_type'] = 'display_data';\n",
              "        await google.colab.output.renderOutput(dataTable, element);\n",
              "        const docLink = document.createElement('div');\n",
              "        docLink.innerHTML = docLinkHtml;\n",
              "        element.appendChild(docLink);\n",
              "      }\n",
              "    </script>\n",
              "  </div>\n",
              "\n",
              "\n",
              "<div id=\"df-1c1a2f00-5909-4016-9aa3-516c4a775dfc\">\n",
              "  <button class=\"colab-df-quickchart\" onclick=\"quickchart('df-1c1a2f00-5909-4016-9aa3-516c4a775dfc')\"\n",
              "            title=\"Suggest charts\"\n",
              "            style=\"display:none;\">\n",
              "\n",
              "<svg xmlns=\"http://www.w3.org/2000/svg\" height=\"24px\"viewBox=\"0 0 24 24\"\n",
              "     width=\"24px\">\n",
              "    <g>\n",
              "        <path d=\"M19 3H5c-1.1 0-2 .9-2 2v14c0 1.1.9 2 2 2h14c1.1 0 2-.9 2-2V5c0-1.1-.9-2-2-2zM9 17H7v-7h2v7zm4 0h-2V7h2v10zm4 0h-2v-4h2v4z\"/>\n",
              "    </g>\n",
              "</svg>\n",
              "  </button>\n",
              "\n",
              "<style>\n",
              "  .colab-df-quickchart {\n",
              "      --bg-color: #E8F0FE;\n",
              "      --fill-color: #1967D2;\n",
              "      --hover-bg-color: #E2EBFA;\n",
              "      --hover-fill-color: #174EA6;\n",
              "      --disabled-fill-color: #AAA;\n",
              "      --disabled-bg-color: #DDD;\n",
              "  }\n",
              "\n",
              "  [theme=dark] .colab-df-quickchart {\n",
              "      --bg-color: #3B4455;\n",
              "      --fill-color: #D2E3FC;\n",
              "      --hover-bg-color: #434B5C;\n",
              "      --hover-fill-color: #FFFFFF;\n",
              "      --disabled-bg-color: #3B4455;\n",
              "      --disabled-fill-color: #666;\n",
              "  }\n",
              "\n",
              "  .colab-df-quickchart {\n",
              "    background-color: var(--bg-color);\n",
              "    border: none;\n",
              "    border-radius: 50%;\n",
              "    cursor: pointer;\n",
              "    display: none;\n",
              "    fill: var(--fill-color);\n",
              "    height: 32px;\n",
              "    padding: 0;\n",
              "    width: 32px;\n",
              "  }\n",
              "\n",
              "  .colab-df-quickchart:hover {\n",
              "    background-color: var(--hover-bg-color);\n",
              "    box-shadow: 0 1px 2px rgba(60, 64, 67, 0.3), 0 1px 3px 1px rgba(60, 64, 67, 0.15);\n",
              "    fill: var(--button-hover-fill-color);\n",
              "  }\n",
              "\n",
              "  .colab-df-quickchart-complete:disabled,\n",
              "  .colab-df-quickchart-complete:disabled:hover {\n",
              "    background-color: var(--disabled-bg-color);\n",
              "    fill: var(--disabled-fill-color);\n",
              "    box-shadow: none;\n",
              "  }\n",
              "\n",
              "  .colab-df-spinner {\n",
              "    border: 2px solid var(--fill-color);\n",
              "    border-color: transparent;\n",
              "    border-bottom-color: var(--fill-color);\n",
              "    animation:\n",
              "      spin 1s steps(1) infinite;\n",
              "  }\n",
              "\n",
              "  @keyframes spin {\n",
              "    0% {\n",
              "      border-color: transparent;\n",
              "      border-bottom-color: var(--fill-color);\n",
              "      border-left-color: var(--fill-color);\n",
              "    }\n",
              "    20% {\n",
              "      border-color: transparent;\n",
              "      border-left-color: var(--fill-color);\n",
              "      border-top-color: var(--fill-color);\n",
              "    }\n",
              "    30% {\n",
              "      border-color: transparent;\n",
              "      border-left-color: var(--fill-color);\n",
              "      border-top-color: var(--fill-color);\n",
              "      border-right-color: var(--fill-color);\n",
              "    }\n",
              "    40% {\n",
              "      border-color: transparent;\n",
              "      border-right-color: var(--fill-color);\n",
              "      border-top-color: var(--fill-color);\n",
              "    }\n",
              "    60% {\n",
              "      border-color: transparent;\n",
              "      border-right-color: var(--fill-color);\n",
              "    }\n",
              "    80% {\n",
              "      border-color: transparent;\n",
              "      border-right-color: var(--fill-color);\n",
              "      border-bottom-color: var(--fill-color);\n",
              "    }\n",
              "    90% {\n",
              "      border-color: transparent;\n",
              "      border-bottom-color: var(--fill-color);\n",
              "    }\n",
              "  }\n",
              "</style>\n",
              "\n",
              "  <script>\n",
              "    async function quickchart(key) {\n",
              "      const quickchartButtonEl =\n",
              "        document.querySelector('#' + key + ' button');\n",
              "      quickchartButtonEl.disabled = true;  // To prevent multiple clicks.\n",
              "      quickchartButtonEl.classList.add('colab-df-spinner');\n",
              "      try {\n",
              "        const charts = await google.colab.kernel.invokeFunction(\n",
              "            'suggestCharts', [key], {});\n",
              "      } catch (error) {\n",
              "        console.error('Error during call to suggestCharts:', error);\n",
              "      }\n",
              "      quickchartButtonEl.classList.remove('colab-df-spinner');\n",
              "      quickchartButtonEl.classList.add('colab-df-quickchart-complete');\n",
              "    }\n",
              "    (() => {\n",
              "      let quickchartButtonEl =\n",
              "        document.querySelector('#df-1c1a2f00-5909-4016-9aa3-516c4a775dfc button');\n",
              "      quickchartButtonEl.style.display =\n",
              "        google.colab.kernel.accessAllowed ? 'block' : 'none';\n",
              "    })();\n",
              "  </script>\n",
              "</div>\n",
              "\n",
              "  <div id=\"id_9d7cc779-ee54-4f68-9aac-c3d719860ef4\">\n",
              "    <style>\n",
              "      .colab-df-generate {\n",
              "        background-color: #E8F0FE;\n",
              "        border: none;\n",
              "        border-radius: 50%;\n",
              "        cursor: pointer;\n",
              "        display: none;\n",
              "        fill: #1967D2;\n",
              "        height: 32px;\n",
              "        padding: 0 0 0 0;\n",
              "        width: 32px;\n",
              "      }\n",
              "\n",
              "      .colab-df-generate:hover {\n",
              "        background-color: #E2EBFA;\n",
              "        box-shadow: 0px 1px 2px rgba(60, 64, 67, 0.3), 0px 1px 3px 1px rgba(60, 64, 67, 0.15);\n",
              "        fill: #174EA6;\n",
              "      }\n",
              "\n",
              "      [theme=dark] .colab-df-generate {\n",
              "        background-color: #3B4455;\n",
              "        fill: #D2E3FC;\n",
              "      }\n",
              "\n",
              "      [theme=dark] .colab-df-generate:hover {\n",
              "        background-color: #434B5C;\n",
              "        box-shadow: 0px 1px 3px 1px rgba(0, 0, 0, 0.15);\n",
              "        filter: drop-shadow(0px 1px 2px rgba(0, 0, 0, 0.3));\n",
              "        fill: #FFFFFF;\n",
              "      }\n",
              "    </style>\n",
              "    <button class=\"colab-df-generate\" onclick=\"generateWithVariable('news_data_df')\"\n",
              "            title=\"Generate code using this dataframe.\"\n",
              "            style=\"display:none;\">\n",
              "\n",
              "  <svg xmlns=\"http://www.w3.org/2000/svg\" height=\"24px\"viewBox=\"0 0 24 24\"\n",
              "       width=\"24px\">\n",
              "    <path d=\"M7,19H8.4L18.45,9,17,7.55,7,17.6ZM5,21V16.75L18.45,3.32a2,2,0,0,1,2.83,0l1.4,1.43a1.91,1.91,0,0,1,.58,1.4,1.91,1.91,0,0,1-.58,1.4L9.25,21ZM18.45,9,17,7.55Zm-12,3A5.31,5.31,0,0,0,4.9,8.1,5.31,5.31,0,0,0,1,6.5,5.31,5.31,0,0,0,4.9,4.9,5.31,5.31,0,0,0,6.5,1,5.31,5.31,0,0,0,8.1,4.9,5.31,5.31,0,0,0,12,6.5,5.46,5.46,0,0,0,6.5,12Z\"/>\n",
              "  </svg>\n",
              "    </button>\n",
              "    <script>\n",
              "      (() => {\n",
              "      const buttonEl =\n",
              "        document.querySelector('#id_9d7cc779-ee54-4f68-9aac-c3d719860ef4 button.colab-df-generate');\n",
              "      buttonEl.style.display =\n",
              "        google.colab.kernel.accessAllowed ? 'block' : 'none';\n",
              "\n",
              "      buttonEl.onclick = () => {\n",
              "        google.colab.notebook.generateWithVariable('news_data_df');\n",
              "      }\n",
              "      })();\n",
              "    </script>\n",
              "  </div>\n",
              "\n",
              "    </div>\n",
              "  </div>\n"
            ],
            "application/vnd.google.colaboratory.intrinsic+json": {
              "type": "dataframe",
              "variable_name": "news_data_df",
              "summary": "{\n  \"name\": \"news_data_df\",\n  \"rows\": 20,\n  \"fields\": [\n    {\n      \"column\": \"title\",\n      \"properties\": {\n        \"dtype\": \"string\",\n        \"num_unique_values\": 20,\n        \"samples\": [\n          \"Meta AI Expands Reach, Adds Languages and Creative Tools\",\n          \"The \\u2018Linux Moment\\u2019 in AI Has Finally Arrived, Says Meta Chief Mark Zuckerberg\",\n          \"WhatsApp to Get a Major Meta AI Upgrade With Imagine Edit, Llama 3.1 405B Model and More\"\n        ],\n        \"semantic_type\": \"\",\n        \"description\": \"\"\n      }\n    },\n    {\n      \"column\": \"media\",\n      \"properties\": {\n        \"dtype\": \"string\",\n        \"num_unique_values\": 20,\n        \"samples\": [\n          \"WinBuzzer\",\n          \"Analytics India Magazine\",\n          \"Gadgets 360\"\n        ],\n        \"semantic_type\": \"\",\n        \"description\": \"\"\n      }\n    },\n    {\n      \"column\": \"date\",\n      \"properties\": {\n        \"dtype\": \"string\",\n        \"num_unique_values\": 10,\n        \"samples\": [\n          \"3 hours ago\",\n          \"3 minutes ago\",\n          \"9 minutes ago\"\n        ],\n        \"semantic_type\": \"\",\n        \"description\": \"\"\n      }\n    },\n    {\n      \"column\": \"datetime\",\n      \"properties\": {\n        \"dtype\": \"date\",\n        \"min\": \"2024-07-24 10:51:58.696068\",\n        \"max\": \"2024-07-24 14:49:58.181208\",\n        \"num_unique_values\": 20,\n        \"samples\": [\n          \"2024-07-24 14:49:58.181208\",\n          \"2024-07-24 11:51:58.668400\",\n          \"2024-07-24 12:51:58.570157\"\n        ],\n        \"semantic_type\": \"\",\n        \"description\": \"\"\n      }\n    },\n    {\n      \"column\": \"desc\",\n      \"properties\": {\n        \"dtype\": \"string\",\n        \"num_unique_values\": 20,\n        \"samples\": [\n          \"The Meta AI assistant, which is integrated into WhatsApp, Instagram, Messenger, and Facebook, is now operational in 22 countries.\",\n          \"Developers can run inference on Llama 3.1 405B on their own infrastructure at roughly 50% of the cost of using closed models like GPT-4o.\",\n          \"WhatsApp is set for a major artificial intelligence (AI) upgrade as the Meta AI integrated within the app is getting several new features.\"\n        ],\n        \"semantic_type\": \"\",\n        \"description\": \"\"\n      }\n    },\n    {\n      \"column\": \"link\",\n      \"properties\": {\n        \"dtype\": \"string\",\n        \"num_unique_values\": 20,\n        \"samples\": [\n          \"https://winbuzzer.com/2024/07/24/meta-ai-expands-reach-adds-languages-and-creative-tools-xcxwbn/&ved=2ahUKEwjDi5ba9r-HAxUP-TgGHbmqHp4QxfQBegQIBRAC&usg=AOvVaw1kbuQ57523ZIudVaFz48tw\",\n          \"https://analyticsindiamag.com/ai-insights-analysis/the-linux-moment-in-ai-has-finally-arrived-says-meta-chief-mark-zuckerberg/&ved=2ahUKEwiDjKHc9r-HAxVQ4zgGHd7gB2U4ChDF9AF6BAgHEAI&usg=AOvVaw0cCSIosSjf9gbNsjwjeb6P\",\n          \"https://www.gadgets360.com/ai/news/whatsapp-meta-ai-upgrade-imagine-edit-llama-3-1-405b-model-imagine-me-language-support-6179214&ved=2ahUKEwiDjKHc9r-HAxVQ4zgGHd7gB2U4ChDF9AF6BAgJEAI&usg=AOvVaw1GY7MmHK5xN9zZuIoadJVC\"\n        ],\n        \"semantic_type\": \"\",\n        \"description\": \"\"\n      }\n    },\n    {\n      \"column\": \"img\",\n      \"properties\": {\n        \"dtype\": \"category\",\n        \"num_unique_values\": 1,\n        \"samples\": [\n          \"data:image/gif;base64,R0lGODlhAQABAIAAAP///////yH5BAEKAAEALAAAAAABAAEAAAICTAEAOw==\"\n        ],\n        \"semantic_type\": \"\",\n        \"description\": \"\"\n      }\n    }\n  ]\n}"
            }
          },
          "metadata": {},
          "execution_count": 6
        }
      ],
      "source": [
        "news_data_df"
      ]
    },
    {
      "cell_type": "code",
      "source": [
        "from urllib.parse import urlparse, urlunparse, parse_qs\n",
        "# Function to clean URLs\n",
        "def clean_url(url):\n",
        "    return url.split('&')[0]\n",
        "\n",
        "# Apply the function to the 'Link' column\n",
        "news_data_df['link'] = news_data_df['link'].apply(clean_url)"
      ],
      "metadata": {
        "id": "dLJexVNVPf5a"
      },
      "id": "dLJexVNVPf5a",
      "execution_count": null,
      "outputs": []
    },
    {
      "cell_type": "code",
      "execution_count": null,
      "id": "66ec55a8",
      "metadata": {
        "colab": {
          "base_uri": "https://localhost:8080/"
        },
        "id": "66ec55a8",
        "outputId": "ccfafffc-4909-4822-b477-93327fbb332e"
      },
      "outputs": [
        {
          "output_type": "stream",
          "name": "stdout",
          "text": [
            "https://winbuzzer.com/2024/07/24/meta-ai-expands-reach-adds-languages-and-creative-tools-xcxwbn/\n",
            "Text Content Scraped\n",
            "https://www.theinformation.com/articles/metas-largest-llama-model-lands-with-fewer-capabilities-than-expected-google-is-still-waiting-for-ai-spending-is-openais-preparedness-getting-sidelined\n",
            "Text Content Scraped\n",
            "http://www.baystreet.ca/articles/stockstowatch/100100/Meta-Platforms-Launches-New-AI-Model\n",
            "Text Content Scraped\n",
            "https://www.tradingview.com/news/benzinga:add5a0135094b:0-how-meta-s-game-changing-ai-model-could-enhance-developer-freedom-propel-privacy-standards-and-surge-stock-performance/\n",
            "Text Content Scraped\n",
            "https://www.redsharknews.com/meta-aims-for-ai-dominance-with-the-release-of-llama-3.1\n",
            "Text Content Scraped\n",
            "https://www.datanami.com/this-just-in/groq-introduces-llama-3-1-models-to-public-accelerating-ai-capabilities/\n",
            "Text Content Scraped\n",
            "https://techmonitor.ai/technology/ai-and-automation/meta-llama-3-1-llm\n",
            "Text Content Scraped\n",
            "https://theparadise.ng/how-to-use-llama-3-1-405b-ai-model-right-now/\n",
            "Text Content Scraped\n",
            "https://www.silicon.co.uk/ai/meta-releases-open-source-llama-3-1-ai-model-572875\n",
            "Text Content Scraped\n",
            "https://www.tomsguide.com/ai/meta-llama-31-is-one-of-the-most-important-ai-releases-of-the-year-heres-how-to-try-it\n",
            "Text Content Scraped\n",
            "https://www.itpro.com/technology/artificial-intelligence/metas-llama-31-promises-to-compete-with-closed-source-competition\n",
            "Text Content Scraped\n",
            "https://www.artificialintelligence-news.com/news/meta-advances-open-source-ai-frontier-level-llama-3-1/\n",
            "Text Content Scraped\n",
            "https://www.zdnet.com/article/3-ways-metas-llama-3-1-is-an-advance-for-gen-ai/\n",
            "Text Content Scraped\n",
            "https://www.financialexpress.com/web-stories/technology/meta-introduces-meta-llama-3-1-405b-ai-model/\n",
            "Text Content Scraped\n",
            "https://www.businessinsider.com/mark-zuckerberg-meta-llama-ai-model-praise-open-source-musk-2024-7\n",
            "Text Content Scraped\n",
            "https://www.gadgets360.com/ai/news/whatsapp-meta-ai-upgrade-imagine-edit-llama-3-1-405b-model-imagine-me-language-support-6179214\n",
            "Text Content Scraped\n",
            "https://www.nationalheraldindia.com/science-tech/all-you-need-to-know-about-metas-brand-new-ai-model-llama-31\n",
            "Text Content Scraped\n",
            "https://analyticsindiamag.com/ai-insights-analysis/the-linux-moment-in-ai-has-finally-arrived-says-meta-chief-mark-zuckerberg/\n",
            "Text Content Scraped\n",
            "https://www.gearrice.com/update/meta-grows-ahead-of-chatgpt-with-llama-3-1-almost-half-a-billion-parameters-and-open-source/\n",
            "Text Content Scraped\n",
            "https://www.firstpost.com/tech/meta-releases-llama-3-1-its-latest-chatgpt-killer-touts-it-as-best-open-source-ai-model-yet-13796529.html\n",
            "Text Content Scraped\n"
          ]
        }
      ],
      "source": [
        "ua = UserAgent()\n",
        "news_data_df_with_text = []\n",
        "for index, headers in news_data_df.iterrows():\n",
        "    news_title = str(headers['title'])\n",
        "    news_media = str(headers['media'])\n",
        "    news_update = str(headers['date'])\n",
        "    news_timestamp = str(headers['datetime'])\n",
        "    news_description = str(headers['desc'])\n",
        "    news_link = str(headers['link'])\n",
        "    print(news_link)\n",
        "    news_img = str(headers['img'])\n",
        "    try:\n",
        "        # html = requests.get(news_link).text\n",
        "        html = requests.get(news_link, headers={'User-Agent':ua.chrome}, timeout=5).text\n",
        "        text = fulltext(html)\n",
        "        news_data_df_with_text.append([news_title, news_media, news_update, news_timestamp,\n",
        "                                         news_description, news_link, news_img, text])\n",
        "        print('Text Content Scraped')\n",
        "    except:\n",
        "        print('Text Content Scraped Error, Skipped')\n",
        "        pass\n",
        "\n",
        "\n",
        "\n",
        "news_data_with_text_df = pd.DataFrame(news_data_df_with_text, columns=['Title', 'Media', 'Update', 'Timestamp',\n",
        "                                                                    'Description', 'Link', 'Image', 'Text'])"
      ]
    },
    {
      "cell_type": "code",
      "execution_count": null,
      "id": "9002247b",
      "metadata": {
        "id": "9002247b"
      },
      "outputs": [],
      "source": [
        "# Display the entire dataframe for sample checking.\n",
        "\n",
        "for i in range(len(news_data_with_text_df)):\n",
        "    if \"the link\" in news_data_with_text_df.loc[i, \"Text\"]:\n",
        "      news_data_with_text_df.drop([i],axis=0, inplace=True)\n",
        "    else:\n",
        "      pass\n"
      ]
    },
    {
      "cell_type": "code",
      "source": [
        "news_data_with_text_df[\"Text\"][0]"
      ],
      "metadata": {
        "colab": {
          "base_uri": "https://localhost:8080/",
          "height": 109
        },
        "id": "0yIK422DOgPh",
        "outputId": "58945e36-26b3-47bf-8ccf-fec72a1cfe2a"
      },
      "id": "0yIK422DOgPh",
      "execution_count": null,
      "outputs": [
        {
          "output_type": "execute_result",
          "data": {
            "text/plain": [
              "\"The Meta AI assistant, which is integrated into WhatsApp, Instagram, Messenger, and Facebook, is now operational in 22 countries.\\n\\nMeta has unveiled a series of updates for its AI services, which include expanding the reach of the Meta AI assistant. The AI assistant, which is integrated into WhatsApp, Instagram, Messenger, and Facebook, is now operational in 22 countries. Recent additions include Cameroon and six Latin American nations—Argentina, Chile, Colombia, Ecuador, Mexico, and Peru. The company also released Llama 3.1, its latest AI model aimed at challenging the leading AI models from OpenAI and Google.\\n\\nLanguage Expansion and Privacy Issues\\n\\nDespite this growth, Meta AI's services have not been extended to the European Union. Meanwhile, the assistant supports more languages, adding French, German, Hindi, Italian, Portuguese, and Spanish. Rob Sherman, Meta's deputy chief privacy officer, disclosed to the Financial Times that the EU's privacy regulators have advised the company to stop training future AI models using data sourced from EU users.\\n\\nMeta AI provides a suite of services designed to enhance user engagement and operational efficiency across its platforms, including Facebook, Instagram, WhatsApp, and Messenger. These services encompass conversational assistance for natural interactions, image generation for creative content, and broad accessibility through devices like Ray-Ban Meta smart glasses and Oculus VR.\\n\\nAdditionally, Meta AI supports business applications by improving customer service with AI chatbots, optimizing marketing through analytics, enhancing security with threat detection, and refining manufacturing and logistics processes.\\n\\nLaunch of Llama 3.1 405B\\n\\nMeta is inviting users to try out Llama 3.1 405B, its latest and most sophisticated open-source model. The company claims that Llama 405B competes with top AI models in areas like general knowledge, steerability, mathematics, tool use, and multilingual translation. Currently, Llama 3.1 405B can be accessed on WhatsApp and the website meta.ai in the U.S.\\n\\n\\n\\nPost by @zuck View on Threads\\n\\nNew Creative Tools for U.S. Market\\n\\nIn the U.S., Meta has introduced several new creative functionalities for Meta AI users. A standout feature is the “Image me” prompt, which lets users create images of themselves in various contexts.\\n\\n\\n\\nPost by @zuck View on Threads\\n\\nMeta is also improving its image creation tools with additional editing functions. Soon, users will have the capability to generate images within feeds, stories, comments, and messages on Facebook, Instagram, Messenger, and WhatsApp. Initially, this feature will be available to those who speak English.\\n\\n\\n\\n\\n\\nAI Comes to Meta Quest Headsets\\n\\nAfter incorporating Meta AI into Ray-Ban smart glasses, Meta is preparing to integrate its generative AI technology into Meta Quest headsets in the U.S. and Canada next month as a test feature. This update will replace the current Voice Commands on Quest, allowing for hands-free headset control, access to real-time information, weather updates, and more. Additionally, Meta AI with Vision in Passthrough will enable users to ask questions about their immediate environment.\""
            ],
            "application/vnd.google.colaboratory.intrinsic+json": {
              "type": "string"
            }
          },
          "metadata": {},
          "execution_count": 11
        }
      ]
    },
    {
      "cell_type": "code",
      "execution_count": null,
      "id": "6e0cf089",
      "metadata": {
        "colab": {
          "base_uri": "https://localhost:8080/"
        },
        "id": "6e0cf089",
        "outputId": "974695f7-86dd-4090-8b6d-362ea78156f6"
      },
      "outputs": [
        {
          "output_type": "stream",
          "name": "stdout",
          "text": [
            "The Meta AI assistant, which is integrated into WhatsApp, Instagram, Messenger, and Facebook, is now operational in 22 countries.\n",
            "\n",
            "Meta has unveiled a series of updates for its AI services, which include expanding the reach of the Meta AI assistant. The AI assistant, which is integrated into WhatsApp, Instagram, Messenger, and Facebook, is now operational in 22 countries. Recent additions include Cameroon and six Latin American nations—Argentina, Chile, Colombia, Ecuador, Mexico, and Peru. The company also released Llama 3.1, its latest AI model aimed at challenging the leading AI models from OpenAI and Google.\n",
            "\n",
            "Language Expansion and Privacy Issues\n",
            "\n",
            "Despite this growth, Meta AI's services have not been extended to the European Union. Meanwhile, the assistant supports more languages, adding French, German, Hindi, Italian, Portuguese, and Spanish. Rob Sherman, Meta's deputy chief privacy officer, disclosed to the Financial Times that the EU's privacy regulators have advised the company to stop training future AI models using data sourced from EU users.\n",
            "\n",
            "Meta AI provides a suite of services designed to enhance user engagement and operational efficiency across its platforms, including Facebook, Instagram, WhatsApp, and Messenger. These services encompass conversational assistance for natural interactions, image generation for creative content, and broad accessibility through devices like Ray-Ban Meta smart glasses and Oculus VR.\n",
            "\n",
            "Additionally, Meta AI supports business applications by improving customer service with AI chatbots, optimizing marketing through analytics, enhancing security with threat detection, and refining manufacturing and logistics processes.\n",
            "\n",
            "Launch of Llama 3.1 405B\n",
            "\n",
            "Meta is inviting users to try out Llama 3.1 405B, its latest and most sophisticated open-source model. The company claims that Llama 405B competes with top AI models in areas like general knowledge, steerability, mathematics, tool use, and multilingual translation. Currently, Llama 3.1 405B can be accessed on WhatsApp and the website meta.ai in the U.S.\n",
            "\n",
            "\n",
            "\n",
            "Post by @zuck View on Threads\n",
            "\n",
            "New Creative Tools for U.S. Market\n",
            "\n",
            "In the U.S., Meta has introduced several new creative functionalities for Meta AI users. A standout feature is the “Image me” prompt, which lets users create images of themselves in various contexts.\n",
            "\n",
            "\n",
            "\n",
            "Post by @zuck View on Threads\n",
            "\n",
            "Meta is also improving its image creation tools with additional editing functions. Soon, users will have the capability to generate images within feeds, stories, comments, and messages on Facebook, Instagram, Messenger, and WhatsApp. Initially, this feature will be available to those who speak English.\n",
            "\n",
            "\n",
            "\n",
            "\n",
            "\n",
            "AI Comes to Meta Quest Headsets\n",
            "\n",
            "After incorporating Meta AI into Ray-Ban smart glasses, Meta is preparing to integrate its generative AI technology into Meta Quest headsets in the U.S. and Canada next month as a test feature. This update will replace the current Voice Commands on Quest, allowing for hands-free headset control, access to real-time information, weather updates, and more. Additionally, Meta AI with Vision in Passthrough will enable users to ask questions about their immediate environment.\n"
          ]
        }
      ],
      "source": [
        "# Display the scraped text content from the first news record.\n",
        "print(news_data_with_text_df['Text'].values[0])"
      ]
    },
    {
      "cell_type": "code",
      "execution_count": null,
      "id": "b12d8303",
      "metadata": {
        "colab": {
          "base_uri": "https://localhost:8080/"
        },
        "id": "b12d8303",
        "outputId": "a13abc27-9f24-4ff6-88be-80b80f6faf73"
      },
      "outputs": [
        {
          "output_type": "execute_result",
          "data": {
            "text/plain": [
              "489"
            ]
          },
          "metadata": {},
          "execution_count": 13
        }
      ],
      "source": [
        "# Count the number of words in the first news record.\n",
        "len(re. findall(r'\\w+', news_data_with_text_df['Text'].values[0]))"
      ]
    },
    {
      "cell_type": "code",
      "execution_count": null,
      "id": "1a388405",
      "metadata": {
        "colab": {
          "base_uri": "https://localhost:8080/"
        },
        "id": "1a388405",
        "outputId": "88ad6c26-c2f0-4f11-e861-462a217275dc"
      },
      "outputs": [
        {
          "output_type": "stream",
          "name": "stdout",
          "text": [
            "                                                                                                                                                                                                                                                                                                                                                                                                                                                                                                                                                                                                                                                                                                                                                                                                                                                                                                                                                                                                                                                                                                                                                                                                                                                                                                                                                                                                                                                                                                                                                                                                                                                                                                                                                                                                                                                                                                                                                                                                                                                                                                                                                                                                                                                                                                                                                                                                                                                                                                                                                                                                                                                                                                                                                                                                                                                                                                                                                                                                                                                                                                                                                                                                                                                                                                                                                                                                                                                                                                                                                                                                                                                                                                                                                                                                                                                                                                                                                                                                                                                                                                                                                                                                                                                                                                                                                                                                                                                                                                                                                                                                                                                                                                                                                                                                                                                                                                                                                                                                                                                                                                                                                                                                                                                                                                                                                                                                                                                                                                                                                                                                                                                                                                                                                                                                                                                                                                                                                                  The Meta AI assistant, which is integrated into WhatsApp, Instagram, Messenger, and Facebook, is now operational in 22 countries.\\n\\nMeta has unveiled a series of updates for its AI services, which include expanding the reach of the Meta AI assistant. The AI assistant, which is integrated into WhatsApp, Instagram, Messenger, and Facebook, is now operational in 22 countries. Recent additions include Cameroon and six Latin American nations—Argentina, Chile, Colombia, Ecuador, Mexico, and Peru. The company also released Llama 3.1, its latest AI model aimed at challenging the leading AI models from OpenAI and Google.\\n\\nLanguage Expansion and Privacy Issues\\n\\nDespite this growth, Meta AI's services have not been extended to the European Union. Meanwhile, the assistant supports more languages, adding French, German, Hindi, Italian, Portuguese, and Spanish. Rob Sherman, Meta's deputy chief privacy officer, disclosed to the Financial Times that the EU's privacy regulators have advised the company to stop training future AI models using data sourced from EU users.\\n\\nMeta AI provides a suite of services designed to enhance user engagement and operational efficiency across its platforms, including Facebook, Instagram, WhatsApp, and Messenger. These services encompass conversational assistance for natural interactions, image generation for creative content, and broad accessibility through devices like Ray-Ban Meta smart glasses and Oculus VR.\\n\\nAdditionally, Meta AI supports business applications by improving customer service with AI chatbots, optimizing marketing through analytics, enhancing security with threat detection, and refining manufacturing and logistics processes.\\n\\nLaunch of Llama 3.1 405B\\n\\nMeta is inviting users to try out Llama 3.1 405B, its latest and most sophisticated open-source model. The company claims that Llama 405B competes with top AI models in areas like general knowledge, steerability, mathematics, tool use, and multilingual translation. Currently, Llama 3.1 405B can be accessed on WhatsApp and the website meta.ai in the U.S.\\n\\n\\n\\nPost by @zuck View on Threads\\n\\nNew Creative Tools for U.S. Market\\n\\nIn the U.S., Meta has introduced several new creative functionalities for Meta AI users. A standout feature is the “Image me” prompt, which lets users create images of themselves in various contexts.\\n\\n\\n\\nPost by @zuck View on Threads\\n\\nMeta is also improving its image creation tools with additional editing functions. Soon, users will have the capability to generate images within feeds, stories, comments, and messages on Facebook, Instagram, Messenger, and WhatsApp. Initially, this feature will be available to those who speak English.\\n\\n\\n\\n\\n\\nAI Comes to Meta Quest Headsets\\n\\nAfter incorporating Meta AI into Ray-Ban smart glasses, Meta is preparing to integrate its generative AI technology into Meta Quest headsets in the U.S. and Canada next month as a test feature. This update will replace the current Voice Commands on Quest, allowing for hands-free headset control, access to real-time information, weather updates, and more. Additionally, Meta AI with Vision in Passthrough will enable users to ask questions about their immediate environment.\n",
            "                                                                                                                                                                                                                                                                                                                                                                                                                                                                                                                                                                                                                                                                                                                                                                                                                                                                                                                                                                                                                                                                                                                                                                                                                                                                                                                                                                                                                                                                                                                                                                                                                                                                                                                                                                                                                                                                                                                                                                                                                                                                                                                                                                                                                                                                                                                                                                                                                                                                                                                                                                                                                                                                                                                                                                                                                                                                                                                                                                                                                                                                                                                                                                                                                                                                                                                                                                                                                                                                                                                                                                                                                                                                                                                                                                                                                                                                                                                                                                                                                                                                                                                                                                                                                                                                                                                                                                                                                                                                                                                                                                                                                                                                                                                                                                                                                                                                                                                                                                                                                                                                                                                                                                                                                                                                                                                                                                                                                                                                                                                                                                                                                                                                                                                                                                                                                                                                                                                                                                                                                                                                                                                                                                                                                                                                                                                                                                                                                                                                                                                                                                                                                                                                                                                                                                                                                                                                                                                                                                                                                                                                                                                                                                                                                                                                                                                                                                                                                                                                                                                                                                                                                                                                                                                                                                                                                                                                                                                                                                                                                                                                                                                                                                                                                                                                                                                                                                                                                                                                                                                                                                                                                                                                                                                                                                                                           This website is using a security service to protect itself from online attacks. The action you just performed triggered the security solution. There are several actions that could trigger this block including submitting a certain word or phrase, a SQL command or malformed data.\\n\\nWhat can I do to resolve this?\\n\\nYou can email the site owner to let them know you were blocked. Please include what you were doing when this page came up and the Cloudflare Ray ID found at the bottom of this page.\n",
            "                                                                                                                                                                                                                                                                                                                                                                                                                                                                                                                                                                                                                                                                                                                                                                                                                                                                                                                                                                                                                                                                                                                                                                                                                                                                                                                                                                                                                                                                                                                                                                                                                                                                                                                                                                                                                                                                                                                                                                                                                                                                                                                                                                                                                                                                                                                                                                                                                                                                                                                                                                                                                                                                                                                                                                                                                                                                                                                                                                                                                                                                                                                                                                                                                                                                                                                                                                                                                                                                                                                                                                                                                                                                                                                                                                                                                                                                                                                                                                                                                                                                                                                                                                                                                                                                                                                                                                                                                                                                                                                                                                                                                                                                                                                                                                                                                                                                                                                                                                                                                                                                                                                                                                                                                                                                                                                                                                                                                                                                                                                                                                                                                                                                                                                                                                                                                                                                                                                                                                                                                                                                                                                                                                                                                                                                                                                                                                                                                                                                                                                                                                                                                                                                                                                                                                                                                                                                                                                                                                                                                                                                                                                                                                                                                                                                                                                       Meta Platforms (META) has launched a new version of its Llama artificial intelligence (A.I.) model, which users can access for free.\\n\\nCalled “Llama 3.1,” the new technology comes in three different versions, with one being the largest and most advanced A.I. model yet from Meta Platforms.\\n\\nAs was the case with all previous versions of Llama, the newest model is “open source,” which means it can be accessed by people around the world for free.\\n\\nThe latest A.I. model arrives as Meta works to keep pace with rivals that include start-ups OpenAI and Anthropic, as well as mega-cap technology companies Microsoft (MSFT) and Amazon (AMZN).\\n\\nThe new Llama A.I. model also showcases a growing partnership between Meta and Nvidia (NVDA).\\n\\nNvidia, the world’s leading maker of A.I. microchips, is providing Meta with computing chips to help train and operate A.I. models.\\n\\nMeta Platforms is partnering with a handful of other technology companies that will offer their customers access to Llama 3.1 via their cloud computing platforms, as well as sell security and management tools that work with the new software.\\n\\nMeta’s corporate partners include Alphabet (GOOG/GOOGL), Databricks and Dell Technologies (DELL).\\n\\nThe open-source approach benefits Meta by exposing developers to its internal tools and inviting them to build on top of it, say analysts.\\n\\nHowever, open-source models can cost billions of dollars to create and there aren’t many companies that are financially able to develop and release such models.\\n\\nMany analysts have criticized Meta Platforms for making it’s A.I. models available for free, noting that its rivals take the opposite approach and charge money for access to their A.I.\\n\\nMeta Platforms’ stock is down 3% on news that the latest version of Llama is being made available to people free of charge.\\n\\nYear-to-date, Meta’s stock is up 41% and trading at $488.69 U.S. per share.\\n\\n\n",
            "                                                                                                                                                                                                                                                                                                                                                                                                                                                                                                                                                                                                                                                                                                                                                                                                                                                                                                                                                                                                                                                                                                                                                                                                                                                                                                                                                                                                                                                                                                                                                                                                                                                                                                                                                                                                                                                                                                                                                                                                                                                                                                                                                                                                                                                                                                                                                                                                                                                                                                                                                                                                                                                                                                                                                                                                                                                                                                                                                                                                                                                                                                                                                                                                                                                                                                                                                                                                                                                                                                                                                                                                                                                                                                                                                                                                                                                                                                                                                                                                                                                                                                                                                                                                                                                                                                                                                                                                                                                                                                                                                                                                                                                                                                                                                                                                                                                                                                                                                                                                                                                                                                                                                                                                                                                                                                                                                                                                                                                                                                                                                                                                                                                                                                                                                                                                                                                                                                                                                                                                                                                                                                                                                                                                                                                                                                                                                                                                                                                                                                                                                                                                                                                                                                                                                                                                                                                                                                                                                                                                                                                                                                                                                                                              Meta Platforms Inc META has unveiled its latest AI innovation, Llama 3.1 405B, marking a significant step towards making artificial intelligence technologies more accessible.\\n\\nThis new model is freely available to the public, unlike other proprietary AI systems that often require payment or are limited to specific corporate uses.\\n\\nBy releasing Llama 3.1 405B as open-source, Meta allows developers worldwide to access and customize the AI without financial barriers or corporate restrictions.\\n\\nThe model is versatile and can easily integrate into various operational environments. Users can fine-tune the model independently, ensuring sensitive data remains private.\\n\\nThis approach demonstrates Meta’s commitment to user privacy and customization freedom, empowering developers to innovate independently.\\n\\nStrategically, the release of Llama 3.1 405B highlights Meta’s support for open-source AI as essential for fair technological progress.\\n\\nBy promoting an open development ecosystem, Meta aims for a future where AI tools boost productivity, foster creativity, and improve quality of life.\\n\\nThis initiative aligns with CEO Mark Zuckerberg’s vision of using open-source AI to drive societal and economic growth.\\n\\nBenzinga\\n\\nLooking at Meta's financial journey, the company's stock in 2024 started strong, with a 38% increase by February. While the growth has slowed since, the stock still gained another 10% by July. Recently, however, there's been a slight decline of over 9% from the July high.\\n\\nAs the stock hovers around $500, a significant psychological barrier, breaking through this level could indicate a bullish future for Meta, potentially pushing the stock to new record highs.\\n\\nAfter the closing bell on Tuesday, July 23, the stock closed at $488.69, trading up by 0.26%.\\n\\nThis article is from an unpaid external contributor. It does not represent Benzinga's reporting and has not been edited for content or accuracy.\\n\\n© 2024 Benzinga.com. Benzinga does not provide investment advice. All rights reserved.\n",
            "                                                                                                                                                                                                                                                                                                                                                                                                                                                                                                                                                                                                                                                                                                                                                                                                                                                                                                                                                                                                                                                                                                                                                                                                                                                                                                                                                                                                                                                                                                                                                                                                                                                                                                                                                                                                                                                                                                                                                                                                                                                                                                                                                                                                                                                                                                                                                                                                                                                                                                                                                                                                                                                                                                                                                                                                                                                                                                                                                                                                                                                                                                                                                                                                                                                                                                                                                                                                                                                                                                                                                                                                                                                                                                                                                                                                                                                                                                                                                                                                                                                                                                                                                                                                                                                                                                                                                                                                                                 Meta has announced Llama 3.1, the most advanced open source Large Language Model AI to date, but EU users will have to wait.\\n\\nLlama 3.1 405B is the largest and most advanced open source AI model released to date, and Meta claims it eclipses current giants such as ChatGPT 4o and Claude 3.5 Sonnet in performance benchmarks.\\n\\nThe release hasn't come as a surprise, since Meta has been teasing its existence for several months now. What's significant here though, aside from its performance, is the business model surrounding it. While ChapGPT and Claude 3.5 Sonnet are privately developed models, Meta hopes its open source approach will lead to faster development, lower cost, and lower resource requirements. In fact, Meta is claiming that its approach costs roughly half that of rivals to run.\\n\\nIndeed, Mark Zuckerberg is comparing the development of AI to that of Linux, which as we know, pretty much everybody has installed on their computer <cough>. Joking aside, Zuckerberg points out in a blog post related to the release that Linux is the bedrock for modern cloud computer and mobile device operating systems, and its open source nature is why it became such a secure, trusted and reliable system to use.\\n\\nHe went on to make the point that Llama 2 was only comparable to older AI models last year, and that open source development has lead to Llama 3.1 now being comparable to, and in some case better than, some of the leading proprietary LLM AI systems in record time.\\n\\n\\n\\nBenchmarks comparing Llama 3.1 405B to rival AI systems. Images: Meta.\\n\\nHaving an open source AI system would appear to make much more sense for developers who don't want to be locked into a proprietary system that could change at any given time, or can't be trained on custom data. The reduced running costs, too are a notable advantage in favour of the Llama system.\\n\\nHow safe is Llama 3.1?\\n\\nZuckerberg goes on to detail a lot about the safety of AI systems in terms of potential intentional harm, data integrity and security. Most would be forgiven for scoffing, given the proliferation of disinformation that has propagated throughout the likes of Facebook over the years, along with accusations of biased algorithms. But, regardless of who is making these points, it would be difficult to argue against the idea of an open source system vs a private proprietary one in this regard. The fact is that open source software is much more open to scrutiny than a closed proprietary system.\\n\\nMeta has been red teaming Llama 3.1 both with internal and external experts to stress test the system to find out any unexpected use case scenarios that could be used for nefarious purposes. It is also sharing model weights, recipes, and safety tools, as well as including components such as Llama Guard, which is a multilingual safety model and Prompt Guard, a prompt injection filter.\\n\\nOf course, despite all the talk of transparency, nothing specific has been said about precisely what data Llama 3.1 has been trained on. Although in terms of stats it apparently now has 405-billion parameters and was trained on 16,000 Nvidia H100 GPUs on over 15 trillion tokens. This works out at around the $400,000,000 mark for the processors alone, putting aside any Walmart volume discount Meta might have negotiated. At least we know now who has been hogging all the H100s recently.\\n\\nMeta is working with over 25 partners, including Amazon, Microsoft, Google, Nvidia, and Databricks to bring Llama 3.1 out into the world, and users will be able to try it in chatbot form initially in WhatsApp and the Meta AI website in the US. The important key words there being \"in the US\".\\n\\nUnfortunately, just as with Apple Intelligence, Llama 3.1 will not be rolling out in EU countries any time soon. Whilst Apple Intelligence has fallen foul of the Digital Markets Act, Llama rollout in the EU is being restricted by the GDPR act, which is designed to protect the data of internet users in the EU, and to give them control over how that data is used and stored. This isn't to say EU users will never gain access to Llama 3.1 or Apple Intelligence, but that they may have to wait a while as Apple and Meta negotiate and develop solutions to the problem.\\n\\nIn terms of overall usage, Meta sees Llama 3.1 being used to train smaller, less resource intensive AI systems that can be rolled out more cost effectively. Given the overall clout of Meta, along with the open source nature of Llama, it's difficult to see how it could become anything other than the industry standard AI system. And, of course, that brings questions of its own, despite the purported open and transparent nature of it all.\\n\\ntl;dr cheat sheet\n",
            "                                                                                                                                                                                                                                                                                                                                                                                                                                                                                                                                                                                                                                                                                                                                                                                                                                                                                                                                                                                                                                                                                                                                                                                                                                                                                                                                                                                                                                                                                                                                                                                                                                                                                                                                                                                                                                                                                                                                                                                                                                                                                                                                                                                                                                                                                                                                                                                                                                                                                                                                                                                                                                                                                                                                                                                                                                                                                                                                                                                                                                                                                                                                                                                                                                                                                                                                                                                                                                                                                                                                                                                                                                                                                                                                                                                                                                                                                                                                                                                                                                                                                                                                                                                                                                                                                                                                                                                                                                                                                                                                                                                                                                                                                                                                                                                                                                                                                                                                                                                                                                                                                                                                                                                                                                                                                                                                                                                                                                          Groq Introduces Llama 3.1 Models to Public, Accelerating AI Capabilities\\n\\nMOUNTAIN VIEW, Calif., July 24, 2024 — Groq, a leader in fast AI inference, launched Llama 3.1 models powered by its LPU AI inference technology. Groq is proud to partner with Meta on this key industry launch, and run the latest Llama 3.1 models, including 405B Instruct, 70B Instruct, and 8B Instruct, at Groq speed. The three models are available on GroqCloud Dev Console, a community of over 300K developers already building on Groq systems, and on GroqChat for the general public.\\n\\n“Meta is creating the equivalent of Linux, an open operating system, for AI – not only for the Groq LPU which provides fast AI inference, but for the entire ecosystem. In technology, open always wins, and with this release of Llama 3.1, Meta has caught up to the best proprietary models. At this rate, it’s only a matter of time before they’ll pull ahead of the closed models,” said Jonathan Ross, CEO and Founder of Groq. “With every new release from Meta, we see a significant surge of developers joining our platform. In the last five months we’ve grown from just a handful of developers to over 300,000, attracted by the quality and openness of Llama, as well as its incredible speed on the Groq LPU.”\\n\\nThe Llama 3.1 models are a significant step forward in terms of capabilities and functionality. As the largest and most capable openly available Large Language Model to date, Llama 3.1 405B rivals industry-leading closed-source models. For the first time, enterprises, startups, researchers, and developers can access a model of this scale and capability without proprietary restrictions, enabling unprecedented collaboration and innovation. With Groq, AI innovators can now tap into the immense potential of Llama 3.1 405B running at unprecedented speeds on GroqCloud to build more sophisticated and powerful applications.\\n\\nWith Llama 3.1, including 405B, 70B, and 8B Instruct models, the AI community gains access to increased context length up to 128K and support across eight languages. Llama 3.1 405B is in a class of its own, with unmatched flexibility, control, and state-of-the-art capabilities in general knowledge, steerability, math, tool use, and multilingual translation. Llama 3.1 405B will unlock new capabilities, such as synthetic data generation and model distillation, and deliver new security and safety tools to further the shared Meta and Groq commitment to build an open and responsible AI ecosystem.\\n\\nWith unprecedented inference speeds for large openly available models like Llama 3.1 405B, developers are able to unlock new use cases that rely on agentic workflows to provide a seamless, yet personalized, human-like response for use cases such as: patient coordination and care; dynamic pricing by analyzing market demand and adjusting prices in real-time; predictive maintenance using real-time sensor data; and customer service by responding to customer inquiries and resolving issues in seconds.\\n\\nGroqCloud has grown to over 300,000 developers in five months, underscoring the importance of speed when it comes to building the next generation of AI-powered applications at a fraction of the cost of GPUs.\\n\\nTo experience Llama 3.1 models running at Groq speed, visit groq.com.\\n\\nAbout Groq\\n\\nGroq builds fast AI inference technology. Groq LPU AI inference technology is a hardware and software platform that delivers exceptional AI compute speed, quality, and energy efficiency. Groq, headquartered in Silicon Valley, provides cloud and on-prem solutions at scale for AI applications. The LPU and related systems are designed, fabricated, and assembled in North America. Try Groq speed at www.groq.com.\\n\\nSource: Groq\n",
            "                                                                                                                                                                                                                                                                                                                                                                                                                                                                                                                                                                                                                                                                                                                                                                                                                                                                                                                                                                                                                                                                                                                                                                                                                                                                                                                                                                                                                                                                                                                                                                                                                                                                                                                                                                                                                                                                                                                                                                                                                                                                                                                                                                                                                                                                                                                                                                                                                                                                                                                                                                                                                                                                                                                                                                                                                                                                                                                                                                                                                                                                                                                                                                                                                                                                                                                                                                                                                                                                                                                                                                                                                                                                                                                                                                                                                                                                                                                                                                                                                                                                                                                                                                                                                                                                                                                                                                                                                                                                                                                                                                                                                                                                                                                                                                                                                                                                                                                                                                                                                                                                                                                                                                                                                                                                                                                                                                                                                                                                                                                                                                                                                                                                                                                                                                                                                                                                                                                                                                                                                                                                                                                                                                                                                                                                                                 Meta has released Llama 3.1 405B, its latest large language model (LLM). According to Facebook’s parent company, the new model is the world’s largest open-source LLM. It builds on its predecessor with new applications and abilities, which include synthetic data generation and the ability to train smaller models. In addition to introducing its 405B model, Meta has released upgraded versions of its Llama 8B and Llama 70B models.\\n\\nMeta’s founder and CEO Mark Zuckerberg said that Llama 3.1’s predecessor, Llama 2, was only comparable to an older generation of LLMs. Its latest model, he argued, leads on several of its rivals. “Starting next year, we expect future Llama models to become the most advanced in the industry,” said Zuckerberg. “But even before that, [the model family was] already leading on openness, modifiability, and cost efficiency.”\\n\\nMeta claims that its Llama 3.1 405B model is the largest such open-source LLM in the world. (Image: Meta)\\n\\nLlama 3.1 builds on previous generation of LLMs\\n\\nMeta said that Llama 3.1 will expand context length to 128K and add support across eight languages. The latest model will also support advanced use cases, including long-form text summarisation, multilingual conversational agents, and coding assistants. Additionally, Meta optimised its full training stack and pushed the model training to over 16,000 H100 GPUs to enable training runs at a massive scale.\\n\\nThe social technology company aims to advance Llama 3.1’s capabilities by delivering additional components, including a reference system to support development. It also plans to empower developers with tools to build custom agents and new agentic behaviours.\\n\\nIn line with responsible AI development, Meta is enhancing its offerings with new security and safety tools, such as the Llama Guard 3 multilingual safety model and Prompt Guard prompt injection filter. Additionally, Meta has issued a request for comments on the Llama Stack API, a standardised interface designed to simplify the integration of the model family into third-party projects.\\n\\nMore to come for LLM’s corporate ecosystem\\n\\nThe social media giant said that its ecosystem of partner platforms for Llama 3.1 is ready for launch, with more than 25 partners already on board. Corporate partners include Cloudflare, Amazon Web Services (AWS), NVIDIA, Databricks, Groq, Dell, Azure, Google Cloud, and Snowflake.\\n\\n“The Llama 3.1 model is particularly exciting, as it is released in a higher precision (bfloat16), incorporates function calling, and adds support across 8 languages,” said Cloudflare in a statement shortly after Llama 3.1’s announcement. “Having multilingual support built-in means that you can use Llama 3.1 to write prompts and receive responses directly in languages like English, French, German, Hindi, Italian, Portuguese, Spanish, and Thai.”\\n\\nRead more: Meta AI cancels European launch\n",
            "                                                                                                                                                                                                                                                                                                                                                                                                                                                                                                                                                                                                                                                                                                                                                                                                                                                                                                                                                                                                                                                                                                                                                                                                                                                                                                                                                                                                                                                                                                                                                                                                                                                                                                                                                                                                                                                                                                                                                                                                                                                                                                                                                                                                                                                                                                                                                                                                                                                                                                                                                                                                                                                                                                                                                                                                                                                                                                                                                                                                                                                                                                                                                                                                                                                                                                                                                                                                                                                                                                                                                                                                                                                                                                                                                                                                                                                                                                                                                                                                                                                                                                                                                                                                                                                                                                                                                                                                                                                                                                                                                                                                                                                                                                                                                                                                                                                                                                                                                                                                                                                                                                                                                                                                                                                                                                                                                                                                                                                                                                                                                                                                                                                                                                                                                                                                                                                                                                                                                                                                                                                                                                                                                                                                                                                                                                                                                                                                                                                                                                                                                                                                                                                                                                                                                                                                                                             Meta has introduced its largest Llama 3.1 405B AI model after many months of waiting. The frontier model has been open-sourced and it rivals the proprietary models from OpenAI, Anthropic, and Google. We finally have an open AI model that is as good as the closed ones. So if you want to check out the model’s capability, follow our article and learn how to use the Llama 3.1 405B model right away.\\n\\nUsers in the US can chat with the Llama 3.1 405B model on Meta AI and WhatsApp itself. Meta is initially rolling out the larger model to US users only. Here is how to access it.\\n\\nNext, enter your prompt and the Llama 3.1 405B model will respond. Try asking challenging reasoning questions to check the model’s capability.\\n\\nRelated Articles How to Use Meta AI Chatbot on WhatsApp, Instagram & Facebook\\n\\nArjun Sha\\n\\n\\n\\nGemma 2 vs Llama 3: Best Open-Source AI Model?\\n\\nArjun Sha\\n\\n\\n\\n\\n\\nUse Llama 3.1 405B on HuggingChat\\n\\nIf you are not from the US, don’t fret. You can still use the Llama 3.1 405B model on HuggingChat. It hosts the Instruct-based FP8 quantized model and the platform is completely free to use.\\n\\nGo ahead and open the HuggingChat page (visit) for the Llama 3.1 405B model.\\n\\nYou can chat with the model without signing up. Ask your question and get a response from Meta’s largest model.\\n\\nRelated Articles Llama 3 vs GPT-4: Meta Challenges OpenAI on AI Turf\\n\\nArjun Sha\\n\\n\\n\\n\\n\\nUse Llama 3.1 405B on Groq\\n\\nGroq is also hosting the Llama 3.1 family models including 70B and 8B models. Earlier, it was serving the largest 405B model but due to high traffic and server issues, Groq seems to have removed it for the moment. Meanwhile, Llama 3.1 70B and 8B are available and these models are generating responses at a blazing speed of 250 tokens per second.\\n\\nNavigate to groq.com (visit) and sign in with a free account. Next, choose the Llama 3.1 model from the drop-down menu.\\n\\nNow, ask your question and the Llama 3.1 model will respond right away.\\n\\nRelated Articles 10 Best ChatGPT Alternatives in 2024 (Free and Paid)\\n\\nArjun Sha\\n\\n\\n\\n\\n\\nSo these are the three ways to use the largest Llama 3.1 405B model. As Meta rolls out the new model to more regions, you will be able to use them in your country, without relying on third-party services. Anyway, that is all from us. If you have any questions, let us know in the comments below.\n",
            "                                                                                                                                                                                                                                                                                                                                                                                                                                                                                                                                                                                                                                                                                                                                                                                                                                                                                                                                                                                                                                                                                                                                                                                                                                                                                                                                                                                                                                                                                                                                                                                                                                                                                                                                                                                                                                                                                                                                                                                                                                                                                                                                                                                                                                                                                                                                                                                                                                                                                                                                                                                                                                                                                                                                                                                                                                                                                                                                                                                                                                                                                                                                                                                                                                                                                                                                                                                                                                                                                                                                                                                                                                                                                                                                Meta Platforms has released its openly accessible artificial intelligence (AI) model, which it claims is its “most capable” AI model to date.\\n\\nMeta announced in a blog post that Llama 3.1 405B “is in a class of its own, with unmatched flexibility, control, and state-of-the-art capabilities that rival the best closed source models. Our new model will enable the community to unlock new workflows, such as synthetic data generation and model distillation.”\\n\\nLast week Meta had confirmed it would withhold its upcoming multimodal Llama AI model from the European Union, citing the “unpredictable nature” of its regulatory environment, despite it being released under an open license in other regions.\\n\\nLlama 3.1 405B\\n\\nMeta said it is continuing to build out Llama to be a system by providing more components that work with the model, including a reference system.\\n\\nIt said it has bolstered this new AI model with new security and safety tools, including Llama Guard 3 and Prompt Guard, to help developers build responsibly.\\n\\nIt has also released a request for comment on the Llama Stack API, a standard interface Meta hopes will make it easier for third-party projects to leverage Llama models.\\n\\nAnd Meta added that the ecosystem is primed and ready to go with over 25 partners, including AWS, Nvidia, Databricks, Groq, Dell, Azure, Google Cloud, and Snowflake offering services on day one.\\n\\n“Llama 3.1 405B is the first openly available model that rivals the top AI models when it comes to state-of-the-art capabilities in general knowledge, steerability, math, tool use, and multilingual translation,” said Meta.\\n\\n“With the release of the 405B model, we’re poised to supercharge innovation – with unprecedented opportunities for growth and exploration,” it added. “We believe the latest generation of Llama will ignite new applications and modeling paradigms, including synthetic data generation to enable the improvement and training of smaller models, as well as model distillation – a capability that has never been achieved at this scale in open source.”\\n\\nRead also : Wisk Plans Autonomous Air Taxi Flights By Decade’s End\\n\\nMeta said that Llama 3.1 405B is its largest model yet, training on over 15 trillion tokens, which was a challenge.\\n\\n“To enable training runs at this scale and achieve the results we have in a reasonable amount of time, we significantly optimised our full training stack and pushed our model training to over 16 thousand H100 GPUs, making the 405B the first Llama model trained at this scale,” said Meta.\\n\\nOpen source\\n\\nIn a separate blog post, CEO Mark Zuckerberg explained Meta’s decision to continue with open sourcing the technology, pointing to how open source Linux gained popularity to become “the industry standard foundation for both cloud computing and the operating systems that run most mobile devices.”\\n\\n“I believe that AI will develop in a similar way,” said Zuckerberg. “Today, several tech companies are developing leading closed models. But open source is quickly closing the gap. Last year, Llama 2 was only comparable to an older generation of models behind the frontier. This year, Llama 3 is competitive with the most advanced models and leading in some areas.”\\n\\n“Starting next year, we expect future Llama models to become the most advanced in the industry,” said Zuckerberg. “Today we’re taking the next steps towards open source AI becoming the industry standard. We’re releasing Llama 3.1 405B, the first frontier-level open source AI model, as well as new and improved Llama 3.1 70B and 8B models. In addition to having significantly better cost/performance relative to closed models, the fact that the 405B model is open will make it the best choice for fine-tuning and distilling smaller models.”\\n\\nZuckerberg stated that Meta is committed to open source AI, but stated that he believed “that open source is necessary for a positive AI future.”\\n\\n“AI has more potential than any other modern technology to increase human productivity, creativity, and quality of life – and to accelerate economic growth while unlocking progress in medical and scientific research,” said Zuckerberg. “Open source will ensure that more people around the world have access to the benefits and opportunities of AI, that power isn’t concentrated in the hands of a small number of companies, and that the technology can be deployed more evenly and safely across society.”\\n\\nZuckerberg conceded that “at some point in the future, individual bad actors may be able to use the intelligence of AI models to fabricate entirely new harms from the information available on the internet.”\\n\\n“At this point, the balance of power will be critical to AI safety,” he stated. “I think it will be better to live in a world where AI is widely deployed so that larger actors can check the power of smaller bad actors. This is how we’ve managed security on our social networks – our more robust AI systems identify and stop threats from less sophisticated actors who often use smaller scale AI systems. More broadly, larger institutions deploying AI at scale will promote security and stability across society. As long as everyone has access to similar generations of models – which open source promotes – then governments and institutions with more compute resources will be able to check bad actors with less compute.”\n",
            "                                                                                                                                                                                                                                                                                                                                                                                                                                                                                                                                                                                                                                                                                                                                                                                                                                                                                                                                                                                                                                                                                                                                                                                                                                                                                                                                                                                                                                                                                                                                                                                                                                                                                                                                                                                                                               Artificial intelligence has already had a big year with the release of GPT-4o from OpenAI, Claude 3.5 Sonnet from Anthropic and the Gemini 1.5 family from Google, but Meta’s release of a massive 405 billion parameter Llama 3.1 is up there for the \"most important\" crown.\\n\\nMeta released version 3.1 of its open-source Llama AI model family yesterday and quickly gained a reputation as one of the most powerful and useful models available, beating the proprietary AI from OpenAI and Anthropic on many major benchmarks.\\n\\nOverall, the performance is roughly on par with GPT-4o or Sonnet, slightly worse at some things and slightly better at others. Yet it isn’t the performance that makes it significant: it's the fact it is open-source, available widely and can even be downloaded and used on your own machines.\\n\\nThis level of access and control over a frontier-grade AI model is groundbreaking as it will lead to new research, new types of models and advancements in areas that might not be worth investing the per token cost of using GPT-4o or Claude Sonnet 3.5.\\n\\nIf you don’t have a data center of your own the smaller models can run on a good gaming laptop or there are a multitude of cloud platforms and services offering access including Groq, Perplexity and if you’re in the U.S. it's available on WhatsApp and the Meta.ai chatbot.\\n\\nWhy is Llama 3.1 405b so significant?\\n\\n(Image credit: Meta)\\n\\nTraining a large language model is incredibly expensive. There has been a focus recently on building efficiency over scale and even OpenAI has released a smaller model in GPT-4o mini.\\n\\nHowever, as good as the smaller models are becoming, size does matter when it comes to frontier-level intelligence and with Llama 3.1 405b Meta has found a compromise and managed to pack a trillion parameter quality model into one half the size.\\n\\nSign up to get the BEST of Tom's Guide direct to your inbox. Get instant access to breaking news, the hottest reviews, great deals and helpful tips. Contact me with news and offers from other Future brands Receive email from us on behalf of our trusted partners or sponsors\\n\\nThe open-source nature of Llama 3.1 405b represents a significant step forward in democratising access to AI technology\" Victor Botev, CTO, Iris.ai\\n\\nThis is the first frontier-grade model to be made available open-source, and Meta went a step further in allowing companies, organizations or individuals to use data generated in 405b to fine-tune or even completely train their own models.\\n\\nMeta is also not just releasing the model family but a full ecosystem complete with sample applications, prompt guards for moderation and guardrails and has proposed a new API interface standard that will make building applications using AI easier.\\n\\nAside from being open-source, offering advanced capabilities and a full ecosystem with smaller models and custom features, Llama 3.1 405b seems to excel at multilingual translation, general knowledge and mathematics. It is also great in terms of customization for specific needs.\\n\\nVictor Botev, CTO of AI research company Iris.ai described Llama 3.1 405b as a \"significant step forward in democratizing access to AI technology.\" This is because being open and accessible makes it easier for researchers and developers to \"build on state-of-the-art language AI without the barriers of proprietary APIs or expensive licensing fees.\"\\n\\nWhere can I try Llama 3.1 405b?\\n\\nStarting today, open source is leading the way. Introducing Llama 3.1: Our most capable models yet.Today we’re releasing a collection of new Llama 3.1 models including our long awaited 405B. These models deliver improved reasoning capabilities, a larger 128K token context… pic.twitter.com/1iKpBJuReDJuly 23, 2024\\n\\nLlama 3.1 405b might already be one of the most widely available AI models, although demand is so high that even normally faultless platforms like Groq are struggling with overload.\\n\\n1. Meta.ai/WhatsApp\\n\\nThe best place to actually try it out is on Meta’s own meta.ai chatbot or the WhatsApp messaging platform. These both give an \"as intended\" way to view and use the model and on Meta.ai it comes with access to image generation and other features.\\n\\nThe downside to this option is that it is only available in the U.S. and Meta has done a good job at blocking VPNs, as it also requires a Facebook or Instagram account.\\n\\n2. Groq inference engine\\n\\nI’ve long extolled the brilliance of Groq, the AI startup building chips designed to run AI models very quickly. It has provided easy access to all of the open-source models including previous versions of the Lllama family and it now has all three Llama 3.1 models.\\n\\nIt does have access to 405b but demand was so high it has been limited and so may not appear if you visit. This includes through the chatbot and through GroqCloud — but its a great way to try out the 70b and 8b models which have also been given an upgrade in Llama 3.1.\\n\\n3. Perplexity search\\n\\nPerplexity is an amazing tool for searching the web, using a range of custom and public AI models to enhance the results returned by traditional web crawlers. It can also generate custom pages offering Wikipedia-style guides to a topic.\\n\\nOne of the newest models available with Perplexity is Llama 3.1 405b but there is a catch — it is only available if you have a ‘pro’ plan which costs $20 per month, although this is a good choice if you’re looking for a way to search the web and work with a range of AI models.\\n\\n4. Hugging Face Chat\\n\\nHuggingChat is something of a hidden gem in the AI chatbot space, offering access to a wide range of models including some not available anywhere else and tools such as web search and image creation. You need a HuggingFace account but its easy to set up and get started.\\n\\nIt is completely free to use and once you’ve signed in just go to settings and select Llama 3.1 405b. The downside to this platform is that there is a learning curve and it doesn’t shy away from using full model names and descriptors. It isn’t beginner-friendly.\\n\\n5. Poe chat marketplace\\n\\nPoe, the Quora-backed chatbot marketplace works a bit like HuggingChat in that it gives you access to a range of models and allows you to customize the way they interact with you but with a more user-friendly, consumer-focused approach.\\n\\nUnlike HuggingChat which seems relatively open and largely free to use, Poe charges \"compute points\" per message sent. You get a relatively generous amount per day for free but 405b is an expensive model, costing 485 compute points per message — so you’ll only get half a dozen or so without paying $17 a month for a premium account.\\n\\nAre there other alternatives?\\n\\nIf none of these work, you want more control over how you plan to use Llama 3.1 405b and you don’t have your own data center, then it's worth looking to one of the multitude of cloud computing platforms and not just AWS from Amazon, Google Cloud or Microsoft Azure; although they all have access to the new model.\\n\\nSnowflake, Cloudflare, DataBricks Nvidia AI Foundry and IBM Cloud are just a few of the places you can sign-up for a developer account and gain access to the open-source model.\n",
            "                                                                                                                                                                                                                                                                                                                                                                                                                                                                                                                                                                                                                                                                                                                                                                                                                                                                                                                                                                                                                                                                                                                                                                                                                                                                                                                                                                                                                                                                                                                                                                                                                                                                                                                                                                                                                                                                                                                                                                                                                                                                                                                                                                                                                                                                                                                                                                                                                                                                                                                                                                                                                                                                                                                                                                                                                                                                                                                                                                                                                                                                                                                                                                                                                                                                                                                                                                                                                                                                                                                                                                                                                                                                                                                                                                                                                                                              Meta has unveiled its most capable ‘open-source’ model yet, which it promises will outperform the leading private models from OpenAI, Google, and Anthropic.\\n\\nLlama 3.1 is significantly more complex than the Llama 3 models released earlier this year, with its largest variant boasting 405 billion parameters and was trained with over 16,000 Nvidia H100s.\\n\\nThis marks the first ‘frontier-level’ open source model, according to Meta, with improved 70 billion and 8 billion parameter models distilled from the larger variant also now available, which Meta claims are the leading open-source models for their sizes.\\n\\nIn a statement accompanying the release of Llama 3.1, Mark Zuckerberg, founder and CEO at Meta, said the open source model ecosystem is quickly ‘closing the gap’ on their private counterparts, claiming he expects future Llama models to surpass the closed-source competition in 2025.\\n\\n“Last year, Llama 2 was only comparable to an older generation of models behind the frontier. This year, Llama 3 is competitive with the most advanced models and leading in some areas. Starting next year, we expect future Llama models to become the most advanced in the industry. But even before that, Llama is already leading on openness, modifiability, and cost efficiency.”\\n\\nIn the post, Zuckerberg reiterated his claim that open source is the future of AI, projecting it will follow a similar path to open source operating system, as it competed with closed source versions of Unix in its early days.\\n\\nThe flexibility and affordability of Linux were soon complemented by improvements in its security and performance, driving the platform’s rise to becoming the industry-standard operating system for cloud computing and mobile devices, and Zuckerberg stated he thinks AI will follow a similar trajectory.\\n\\nGet the ITPro. daily newsletter Receive our latest news, industry updates, featured resources and more. Sign up today to receive our FREE report on AI cyber crime & security - newly updated for 2024. Contact me with news and offers from other Future brands Receive email from us on behalf of our trusted partners or sponsors\\n\\nMeta was also bullish on the success of its in-house AI assistant, Meta AI, which it has made available in more countries and languages, as well as adding some new features including its Imagine image generation capability.\\n\\nIn an Instagram post on 23 July, Zuckerberg said Meta AI is on track to reach the firm’s target of becoming the most used AI assistant in the world by the end of 2024.\\n\\nA significant step forward, but ‘open source’ concerns remain\\n\\nVictor Botev, CTO and cofounder at Iris.ai, said Llama 3.1 is a big leap in terms of expanding the level of access people have to powerful AI systems, eliminating some of the barriers to entry for those without deeper pockets.\\n\\n“The open-source nature of Llama 3.1 405b represents a significant step forward in democratizing access to AI technology. Meta is enabling researchers and developers worldwide to explore, innovate, and build upon state-of-the-art language AI without the barriers of proprietary APIs or expensive licensing fees.” he explained.\\n\\n“This approach emphasizes transparent development, fosters collaboration and accelerates progress in the field, potentially leading to breakthroughs that benefit society as a whole.”\\n\\nSome have criticized Meta’s use of the label ‘open source’ for their Llama models, however, preferring to use ‘free to use’ as Meta places restrictions on particularly large enterprises.\\n\\nRELATED WHITEPAPER (Image credit: IBM) Deliver the best experience possible\\n\\nOrganizations with hundreds of millions of users will need to seek approval from Meta before they can take advantage of the Llama 3.1, and Meta still refuses to share the model’s training data or the code used to train it.\\n\\nAs such, the open source label may have more to do with attracting users to its platform and securing a supply of data to continue training its model on, which Meta can eventually monetize down the line.\\n\\nSpeaking to ITPro, Theo Priestley, technology futurist, keynote speaker, and author, said it is important to remember Meta is not being totally transparent when it refers to its Llama model as open source.\\n\\n“The idea of [Llama 3.1] being truly open source is a red herring, eventually everything flows back to Meta HQ.”\\n\\nPriestley added that there are serious concerns around the governance of these open-weight models, and Meta may be using the open source label to abrogate some of the responsibility for managing how they are used.\\n\\n“Open source AI is a bigger problem because it becomes unregulated and unmanageable, unsustainable and unethical. It's the absolution of corporate responsibility towards AI by saying 'well it's your problem now' to anyone who uses it and builds upon it.”\\n\\nIn a post on X, Jeffrey Ladish, executive director at Palisade Research warned that his research showed the 70 billion parameter version of Llama 3 could be stripped of its safety guard rails in minutes for a negligible cost, adding that he expects the same to be true for Llama 3.1.\\n\\nLadish reminded users that the decision to release the weights of the Llama models cannot be undone.\n",
            "                                                                                                                                                                                                                                                                                                                                                                                                                                                                                                                                                                                                                                                                                                                                                                                                                                                                                                                                                                                                                                                                                                                                                                                                                                                                                                                                                                                                                                                                                                                                                                                                                                                                                                                                                                                                                                                                                                                                                                                                                                                                                                                                                                                                                                                                                                                                                                                                                                                                                                                                                                                                                                                                                                                                                                                                                                                                                                                                                                                                                                                                                                                                                                                                                                                                                                                                                                                                                                                                                                                                                                                                                                                                                                                                                                                                                                                                                                                                                                                                                                                                                                                                                                                                                                                                                                                                                                                                                                                                                                                                                                                                                                                                                                                                                                                                                                                                                                                                                                                                                                                                                                                                                                                                                                                                                   Ryan Daws is a senior editor at TechForge Media with over a decade of experience in crafting compelling narratives and making complex topics accessible. His articles and interviews with industry leaders have earned him recognition as a key influencer by organisations like Onalytica. Under his leadership, publications have been praised by analyst firms such as Forrester for their excellence and performance. Connect with him on X (@gadget_ry) or Mastodon (@gadgetry@techhub.social)\\n\\nMeta has unveiled Llama 3.1, marking a significant milestone in the company’s commitment to open source AI. This release, which Meta CEO Mark Zuckerberg calls “the first frontier-level open source AI model,” aims to challenge the dominance of closed AI systems and democratise access to advanced AI technology.\\n\\nThe Llama 3.1 release includes three models: 405B, 70B, and 8B. Zuckerberg asserts that the 405B model competes with the most advanced closed models while offering better cost-efficiency.\\n\\n“Starting next year, we expect future Llama models to become the most advanced in the industry,” Zuckerberg predicts.\\n\\nZuckerberg draws parallels between the evolution of AI and the historical shift from closed Unix systems to open source Linux. He argues that open source AI will follow a similar trajectory, eventually becoming the industry standard due to its adaptability, cost-effectiveness, and broad ecosystem support.\\n\\nZuckerberg emphasises several key advantages of open source AI:\\n\\nCustomisation: Organisations can train and fine-tune models with their specific data.\\n\\nOrganisations can train and fine-tune models with their specific data. Independence: Avoids lock-in to closed vendors or specific cloud providers.\\n\\nAvoids lock-in to closed vendors or specific cloud providers. Data security: Allows for local model deployment, enhancing data protection.\\n\\nAllows for local model deployment, enhancing data protection. Cost-efficiency: Llama 3.1 405B can be run at roughly half the cost of closed models like GPT-4.\\n\\nLlama 3.1 405B can be run at roughly half the cost of closed models like GPT-4. Ecosystem growth: Encourages innovation and collaboration across the industry.\\n\\nAddressing safety concerns, Zuckerberg argues that open source AI is inherently safer due to increased transparency and scrutiny. He states, “Open source should be significantly safer since the systems are more transparent and can be widely scrutinised.”\\n\\nTo support the open source AI ecosystem, Meta is partnering with major tech companies like Amazon, Databricks, and NVIDIA to provide development services. The models will be available across major cloud platforms, with companies such as Scale.AI, Dell, and Deloitte ready to assist in enterprise adoption.\\n\\n“Open source will ensure that more people around the world have access to the benefits and opportunities of AI, that power isn’t concentrated in the hands of a small number of companies, and that the technology can be deployed more evenly and safely across society,” Zuckerberg claims.\\n\\nThe CEO views this release as a turning point, predicting that most developers will shift towards primarily using open source AI models. He invites the tech community to join Meta in “this journey to bring the benefits of AI to everyone in the world.”\\n\\nThe Llama 3.1 models are now accessible at llama.meta.com.\\n\\n(Photo by Dima Solomin)\\n\\nSee also: Meta joins Apple in withholding AI models from EU users\\n\\nWant to learn more about AI and big data from industry leaders? Check out AI & Big Data Expo taking place in Amsterdam, California, and London. The comprehensive event is co-located with other leading events including Intelligent Automation Conference, BlockX, Digital Transformation Week, and Cyber Security & Cloud Expo.\\n\\nExplore other upcoming enterprise technology events and webinars powered by TechForge here.\n",
            "                                                                                                                                                                                                                                                                                                                                                                                                                                                                                                                                                                                                                                                                                                                               Meta's Llama 3.1 405B is the largest open-source large language model to date, capable of multimodal tasks and also \"tool use.\" Its construction and training represent a tour de force of engineering choices. Meta Properties\\n\\nMeta on Tuesday unveiled the latest incarnation of Llama, its family of large language models (LLMs). The company says Llama 3.1 is the first open-source \"frontier model,\" a claim reserved generally for the biggest examples of AI code.\\n\\nLlama 3.1 comes in multiple sizes, and the largest, \"405B,\" is not only noteworthy for the scale of computing it involves -- Llama 3.1 has 405 billion neural \"weights,\" or, parameters, larger than prominent open-source models such as Nvidia's Nemotron 4, Google's Gemma 2, and Mixtral -- it is also significant for three choices that the Meta team made.\\n\\nAlso: Meta inches toward open-source AI with new Llama 3.1\\n\\nTaken together, the three decisions are a tour de force of neural network engineering and are at the heart of how the company built and trained Llama 3.1 405B. They complement advances Meta showed with Llama 2 that suggested ways to slim down deep learning's total compute budget.\\n\\n(An \"AI model\" is the part of an AI program that contains numerous neural net parameters and activation functions that are the key elements for how an AI program functions.)\\n\\nFirst, Llama 3.1 405B dispenses with what's called a \"mixture of experts,\" the approach Google uses for its newest closed-source model, Gemini 1.5, and Mistral uses for its Mixtral models.\\n\\nA mixture of experts creates various alternate combinations of the neural weights. Some can be switched off so that a subset of weights is used to make predictions. Meta's researchers \"opted for a standard decoder-only transformer model architecture,\" the near-ubiquitous building block first developed in 2017 as Google's Transformer. The researchers claim this makes the model more stable during its training.\\n\\nAlso: Switzerland now requires all government software to be open source\\n\\nSecond, to improve the results of the plain-vanilla transformer-based model, Meta's researchers describe an ingenious approach to training the model in stages. It's well known that both the amount of training data and the amount of compute used can be balanced in an optimal way to produce better predictions.\\n\\nAs described in the formal paper for Llama 3.1, the researchers took a look at existing \"scaling laws,\" which tell how well a model will do at producing a correct prediction depending on the size of the model and the amount of training data. That approach doesn't really tell how good a model is at carrying out a \"downstream\" task, such as a standardized test of reasoning.\\n\\nInstead, Meta came up with its own scaling law. The company progressively increased both the amount of training data and the amount of compute, checking over multiple iterations to see how well the resulting trained model does on the downstream tasks.\\n\\nMeta tested different combinations of the compute intensity and the amount of data to find sweet spots where the mixture reached optimal performance on \"downstream\" benchmark tasks. Meta Properties\\n\\n\"We use the resulting compute-optimal models to forecast the performance of the flagship Llama 3 model on benchmark datasets,\" the Meta team wrote.\\n\\nThis approach has echoes of Meta's recent research, in which the researchers train the model for the end outcome, rather than just a raw score on predicting the next word.\\n\\nMeta put Llama 3.1 405B through an extensive post-training process to fine tune it with human feedback and held-out examples of correct answers. Meta Properties\\n\\nThe important part is that the iterative process of validating each successive data and compute combination is what leads to the selection of the 405 billion parameters as the sweet spot. \"Based on this observation, we ultimately decided to train a flagship model with 405B parameters,\" the researchers wrote.\\n\\nThe 405-billion-parameter model's final training was on 16,000 Nvidia H100 GPU chips, which are run on Meta's Grand Teton AI server. Meta used a complex system of clustering the many servers together to run batches of data, and the neural weights, in parallel.\\n\\nAlso: Meta's Gen AI moves from simple predictions to a chess game of consequences\\n\\nThe third big innovation is executing an equally ingenious combination of steps after each round of training the model, known as \"post-training.\" In post-training, a pre-trained Llama 3.1 is first subjected to human raters' expressed preferences, similar to what OpenAI and others do to shape the kinds of output the model produces.\\n\\nThen, Meta uses the human preferences to re-train the model in what's called \"supervised fine-tuning,\" where the model is re-trained until it can pick out the desirable from the undesirable outputs in the human feedback.\\n\\nMeta then adds to the fine-tuning with a technique introduced this year by Stanford University AI scholars called \"direct preference optimization,\" or, DPO. It's a form of the \"reinforcement learning from human feedback\" that OpenAI made popular, but it's designed to be much more efficient.\\n\\nAlso: OpenAI shares safety updates after whistleblower complaints, lawmaker demands\\n\\nTo these broad post-training approaches, the Meta researchers add a couple of twists. For one, they post-trained Llama 3.1 405B to use \"tools,\" external programs that can perform functions such as search engines. That involves things such as feeding the model examples of prompts that are solved by invoking API calls.\\n\\nBy fine-tuning Llama on the examples, Meta claims the model gains much better \"zero-shot\" tool use, the ability to invoke a tool that has not actually been shown in its training data.\\n\\nTo diminish the prevalence of \"hallucinations,\" the authors cherry-pick examples of the training data and craft original question-answer pairs. They use these to further fine-tune the model in order to \"encourage the model to only answer questions which it has knowledge about, and refuse answering those questions that it is unsure about.\"\\n\\nAlso: We found a way to escape Meta AI on Facebook - but there's a catch\\n\\nThe Meta researchers characterized all of their choices as aiming for simplicity.\\n\\n\"Throughout the development of the Llama 3 model family, we found that a strong focus on high-quality data, scale, and simplicity consistently yielded the best results,\" they wrote. \"In preliminary experiments, we explored more complex model architectures and training recipes but did not find the benefits of such approaches to outweigh the additional complexity they introduce in model development.\"\\n\\nCertainly, the scale of the program is a landmark for open-source models, which typically have been far smaller than their commercial, closed-source competitors.\\n\\nMeta boasts of how Llama 31. 405B beats or meets the large commercial, closed-source models. Meta Properties\\n\\nMeta co-founder and CEO Mark Zuckerberg lauded the economics of using Llama 3.1. \"Developers can run inference on Llama 3.1 405B on their own infra[structure] at roughly 50% the cost of using closed models like GPT-4o, for both user-facing and offline inference tasks,\" Zuckerberg wrote.\\n\\nZuckerberg also broadly defended open-source AI as a natural evolution of software. It is the equivalent, he wrote, of the Unix operating system that evolved from early proprietary versions to \"a more advanced, secure, and broader ecosystem\" because of its open-source versions.\\n\\nAlso: Fight for global AI lead may boil down to governance\\n\\nAs ZDNET's Steven Vaughan-Nichols writes, however, some details have been left out of Meta's code posting on Hugging Face, and its code license is more restrictive than other open-source licenses. That means that Llama 3.1 is kind of open source, but not entirely.\\n\\nAlthough reasonable parties can disagree on how strictly they recognize the open-source nature of Llama 3.1, the fact that so much detail is offered about the training process of the model is itself a welcome trove of disclosure. This is especially true at a time when OpenAI and Google increasingly share little if any information about how they construct their closed-source models.\n",
            "                                                                                                                                                                                                                                                                                                                                                                                                                                                                                                                                                                                                                                                                                                                                                                                                                                                                                                                                                                                                                                                                                                                                                                                                                                                                                                                                                                                                                                                                                                                                                                                                                                                                                                                                                                                                                                                                                                                                                                                                                                                                                                                                                                                                                                                                                                                                                                                                                                                                                                                                                                                                                                                                                                                                                                                                                                                                                                                                                                                                                                                                                                                                                                                                                                                                                                                                                                                                                                                                                                                                                                                                                                                                                                                                                                                                                                                                                                                                                                                                                                                                                                                                                                                                                                                                                                                                                                                                                                                                                                                                                                                                                                                                                                                                                                                                                                                                                                                                                                                                                                                                                                                                                                                                                                                                                                                                                                                                                                                                                                                                                                                                                                                                                                                                                                                                                                                                                                                                                                                                                                                                                                                                                                                                                                                                                                                                                                                                                                                                                                                                                                                                                                                                                                                                                                                                                                                                                                                                                                                                                                                                                                                                                                                                                                                                                                                                                                                                                                                                                                                                                                                                                                                                                                                                                                                                                                                                                                                                                                                                                                                                                                                                                                                                                                                                                                                                                                                                                                                                                                                                                                                                                                                                                                                                                                                                                                                                                                                                                       This includes Azure, AWS, Oracle and Google, among others In addition to this companies such as Deloitte, Dell and Scale.AI are expected to train custom Llama with their own data This includes Azure, AWS, Oracle and Google, among others In addition to this companies such as Deloitte, Dell and Scale.AI are expected to train custom Llama with their own data\n",
            "                                                                                                                                                                                                                                                                                                                                                                                                                                                                                                                                                                                                                                                                                                                                                                                                                                                                                                                                                                                                                                                                                                                                                                                                                                                                                                                                                                                                                                                                                                                                                                                                                                                                                                                                                                                                                                                                                                                                                                                                                                                                                                                                                                                                                                                                                                                                                                                                                                                                                                                                                                                                                                                                                                                                                                                                                                                                                                                                                                                                                                                                                                                                                                                                                                                                                                                                                                                                                                                                                                                                                                                                                                                                                                                                                                                                                                                                                                                                                                                                                                                                                                                                                                                                                                                                                                                                                                                                                                                                                                                                                                                                                                                                                                                                                                                                                                                                                                                                                                                                                                                                                                                                                                                                                                                                                                                                                                                                                                                                                                                                                                                                                                                                                                                                                                                                                                                                                                                                                                                                                                                                                                                                                                                                                                                                                                                                                                                                                                                                                                                                                                                                                                                                                                                                                                                                                                                                                                                                                                                                                                                                                                                                                                                                                                                                                                                                                                                                                                                                                                                                                                                                                                                                                                                                                                                                                                                                                                                                                                                                 Mark Zuckerberg won praise from CEOs for open-sourcing Meta's AI model, Llama 3.1.\\n\\nZuckerberg's popularity seems to be on the rise as tech leaders applaud his open-source approach.\\n\\nShopify's CEO called the model an \"incredible gift,\" and even Elon Musk said he \"does deserve credit.\"\\n\\nSign up to get the inside scoop on today’s biggest stories in markets, tech, and business — delivered daily. Read preview Thanks for signing up! Access your favorite topics in a personalized feed while you're on the go. download the app Email address Sign up By clicking “Sign Up”, you accept our Terms of Service and Privacy Policy . You can opt-out at any time by visiting our Preferences page or by clicking \"unsubscribe\" at the bottom of the email.\\n\\nAdvertisement\\n\\nIf there were a Big Tech CEO popularity contest, Zuck might well be taking the crown right now.\\n\\nThe Meta chief is winning the admiration of CEOs of companies including Shopify and Perplexity. Even Elon Musk gave Zuck a rare nod of approval.\\n\\nWhat's sparking this praise? Meta's move to open source its biggest AI model yet: Llama 3.1, which was released on Tuesday.\\n\\nThis story is available exclusively to Business Insider subscribers. Become an Insider and start reading now. Have an account? Log in .\n",
            "                                                                                                                                                                                                                                                                                                                                                                                                                                                                                                                                                                                                                                                                                                                                                                                                                                                                                                                                                                                                                                                                                                                                                                                                                                                                                                                                                                                                                                                                                                                                                                                                                                                                                                                                                                                                                                                                                                                                                                                                                                                                                                                                                                                                                                                                                                                                                                                                                                                                                                                                                                                                                                                                                                                                                                                                                                                                                                                                                                                                                                                                                                                                                                                                                                                                                                                                                                                                                                                                                                                                                                                                                                                                                                                                                                                                                                                                                                                                                                                                                                                                                                                                                                                                                                                                                                                                                                                                                                                                                                                                                                                                                                                                                                                                                                                                                                                                                                                                                                                                                                                                                                                                                                                                                                                                                                                                                                                                                                                                                                                                                                                                                                                                                                                                                                                                                                                                                                                                                                                                                                                                                                                                                                                                                                                                                                                                                                                                                                                                                                                                                                              WhatsApp is set for a major artificial intelligence (AI) upgrade as the Meta AI integrated within the app is getting several new features. The Meta-owned instant messaging platform announced on Tuesday that it will be rolling out new image-generation features and multilingual support for the app's AI assistant. These features will be available for both Android and iOS, but not all of them will be released globally. The Imagine Me feature lets users click a picture of themselves to generate different AI-generated avatars.\\n\\nWhatsApp to get New Meta AI Features\\n\\nIn a blog post, WhatsApp highlighted the new AI features it will be getting. The first is the multiple language support. Meta AI is being expanded to a total of 22 countries. The new countries where the AI chatbot will be available include Argentina, Chile, Colombia, Ecuador, Mexico, Peru and Cameroon.\\n\\nAdditionally, the chatbot is also getting support for several new languages. Earlier, it could only accept prompts and generate responses in English but now it can support French, German, Hindi (both Devanagari and Romanised script), Italian, Portuguese and Spanish languages. The social media giant has confirmed that it will add support for more languages in the coming months.\\n\\nComing to the image generation features, Meta AI on WhatsApp will get the Imagine Me feature that will allow users to generate images of themselves in AI-generated settings and styles. For instance, users can generate an image of themselves relaxing at a beach or as an astronaut. This feature will require the user to click a picture first, likely to prevent its misuse for deepfakes. Notably, this feature is rolling out in beta and will be only available in the US. More countries might get it in the near future.\\n\\nAnother interesting feature WhatsApp will get is Imagine Edit. This will allow users to take an AI-generated image and make edits to them with text prompts. Users can add, remove, or change objects, backgrounds, and more. For example, after generating an image of a woman walking in the park, the user can ask Meta AI to change the setting to a market or change the outfit of the woman while keeping everything else the same. As per the post, this feature will be rolled out globally.\\n\\nFinally, WhatsApp will also get an app-exclusive feature. Users will see the option to try out the recently released Meta Llama 3.1 405B AI model. The company claims the AI model can better handle complex queries, solve advanced math problems, and write code more efficiently. This feature is also expected to roll out globally, but the company has not confirmed it yet.\n",
            "                                                                                                                                                                                                                                                                                                                                                                                                                                                                                                                                                                                                                                                                                                                                                                                                                                                                                                                                                                                                                                                                                                                                                                                                                                                                                                                                                                                                                                                                                                                                                                                                                                                                                                                                                                                                                                                                                                                                                                                                                                                                                                                                                                                                                                                                                                                                                                                                                                                                                                                                                                                                                                                                                                                                                                                                                                                                                                                                                                                                                                                                                                                                                                                                                                                                                                                                                                                                                                                                                                                                                                                                                                                                                                                                                                                                                                                                                                                                                                                                                                                                                                                                                                                                                                                                                                                                                                                                                                                                                                                                                                                                                                                                                                                                                                                                                                                                                                                                                                                                                                                                                                                                                                                                                                                                                                                                                                                                                                                                                                                                                                                                                                                                                                                                                                                                                                                                                                                                                                                                                                                                                                                                                                                                                                                                                                                                                                                                                                                                                                                                                                                                                                                                                                                                                                                                                                                                                                                                                                                                                                                                                                                                                                                                                                                                                                                                                                                                                                                                                                                                                                                                                                                                                                                                                                                                                                                                                                                                                                                                                                                                                                                                                                                                                                                                                                                                                                                                                                                                                                                                                                    Meta has unveiled its most advanced AI model to date, Llama 3.1, which is now available for free, as an open-source resource.\\n\\nAnnounced on Tuesday, 23 July, by CEO Mark Zuckerberg, Llama 3.1 is the 'world’s largest and most capable openly available foundation model' per Meta's blogspot.\\n\\nIn an open letter, Zuckerberg emphasised Meta's commitment to open-source development: 'Today we’re taking the next steps towards open source AI becoming the industry standard. We’re releasing Llama 3.1 405B, the first frontier-level open source AI model, as well as new and improved Llama 3.1 70B and 8B models.'\\n\\nWith more than 300 million total downloads of all Llama versions to date, Meta said that it's 'just getting started'.\n",
            "A few days ago, AIM asked a pertinent question: “When will the ‘Linux moment’ in AI arrive?” It looks like it has arrived sooner than expected. Yesterday, Meta released Llama 3.1, with 405 billion parameters, its largest and best model yet.\\n\\nThe state-of-the-art model outperformed OpenAI’s GPT-4o on several benchmarks, making it the best open-source model available.\\n\\nLlama 3.1 is competitive with leading foundation models like GPT-4, GPT-4o, and Claude 3.5 Sonnet across various benchmarks. The smaller models in the Llama 3.1 series also perform on par with both closed and open models of similar parameter sizes.\\n\\nMeta chief Mark Zuckerberg is confident that Llama 3.1 will have a similar impact on the AI ecosystem as Linux had on the operating system world.\\n\\n“Today, Linux is the industry standard foundation for both cloud computing and the operating systems that run most mobile devices – and we all benefit from superior products because of it,” he said, adding, “I believe that AI will develop in a similar way. Today, several tech companies are developing leading closed models. But open source is quickly closing the gap.”\\n\\n“I think open source AI is going to become the industry standard just like Linux did. It gives you control to customise and run your own models. You don’t have to send your data to another, and it’s more affordable,” he added.\\n\\nEchoing similar sentiments, OpenAI co-founder Andrej Karpathy said, “I’d like to say that it is still very early days, that we are back in the ~1980s of computing all over again, that LLMs are a next major computing paradigm, and Meta is clearly positioning itself to be the open ecosystem leader of it.”\\n\\nHe elaborated on the applications of AI models, stating that people will prompt and retrieve information from the models, fine-tune them, distil them into smaller expert models for specific tasks and applications, and study, benchmark, and optimise these models.\\n\\nRecently, Karpathy also discussed how AI kernels could potentially replace current operating systems.\\n\\nWith many 🧩 dropping recently, a more complete picture is emerging of LLMs not as a chatbot, but the kernel process of a new Operating System. E.g. today it orchestrates:\\n\\n\\n\\n– Input & Output across modalities (text, audio, vision)\\n\\n– Code interpreter, ability to write & run… pic.twitter.com/2HsyslOG2F — Andrej Karpathy (@karpathy) September 28, 2023\\n\\nKarpathy envisions an operating system where the LLM acts as the kernel, managing and coordinating system resources and user interactions, and AI agents function as applications, providing various services and functionalities.\\n\\nIn this system, natural language serves as the primary programming and interaction interface, allowing users to communicate with the system in plain English or other languages.\\n\\nLLM OS. Bear with me I'm still cooking.\\n\\n\\n\\nSpecs:\\n\\n– LLM: OpenAI GPT-4 Turbo 256 core (batch size) processor @ 20Hz (tok/s)\\n\\n– RAM: 128Ktok\\n\\n– Filesystem: Ada002 pic.twitter.com/6n95iwE9fR — Andrej Karpathy (@karpathy) November 11, 2023\\n\\nAI Agents, Everywhere\\n\\nZuckerberg anticipates that Meta AI will become the leading chatbot by the end of this year, given that ChatGPT currently boasts over 100 million users. Interestingly, Meta has not yet disclosed any usage statistics for its own assistant.\\n\\nMeta anticipates that billions of AI agents will be developed worldwide using open-source models. “Our vision is that there should be a lot of different AIs and AI services out there, not just one singular AI, and that really informs the open-source approach,” said Zuckerberg.\\n\\n“A lot of what we’re focused on is giving every creator and every small business the ability to create AI agents for themselves, making it so that every person on our platforms can create their own AI agents to interact with,” he added.\\n\\nVinod Khosla has been dreaming about it too. He envisions a future in which internet access will mostly be through agents acting for consumers, carrying out tasks, and fending off marketers and bots. “Tens of billions of agents on the internet will be normal,” he wrote.\\n\\n“Eventually, all our interactions with the digital world will be mediated by AI assistants. This means that AI assistants will constitute a repository of all human knowledge and culture; they will constitute a shared infrastructure like the internet is today,” said LeCun.\\n\\nHe urged platforms to be open-source and said that we cannot have a small number of AI assistants controlling the entire digital diet of every citizen across the world, taking a dig at OpenAI and a few other companies without naming them.\\n\\n“This will be extremely dangerous for diversity of thought, for democracy, and for just about everything,” he added.\\n\\nSurprisingly, for the first time in history, Meta also updated its licence to allow developers to use the outputs from Llama models — including 405B — to improve other models.\\n\\n“We’re excited about how this will enable new advancements in the field through synthetic data generation and model distillation workflows, capabilities that have never been achieved at this scale in open source,” said the company.\\n\\nLast week, a faulty sensor configuration update by CrowdStrike caused a significant Microsoft Windows outage, impacting global transport, finance, and medical sectors. Looking ahead, if AI agents are managed by a single entity and cloud infrastructure, a similar failure could re-occur.\\n\\n“I think the main thing that people are going to do [with Llama 3.1 405], especially because it’s open source, is use it as a teacher to train smaller models that they use in different applications,” said Zuckerberg.\\n\\n“If you just think about all the startups out there, or all the enterprises or even governments that are trying to do different things, they probably all need to, at some level, build custom models for what they’re doing,” he added.\\n\\nThe idea was suggested earlier by Karpathy, who explained that in the future, as larger models help refine and optimise the training process, smaller models will emerge. “The models have to first get larger before they can get smaller because we need their (automated) help to refactor and mould the training data into ideal, synthetic formats.”\\n\\nLast week, we saw the release of several small models that can be run locally without relying on the cloud. Small language models, or SLMs, are expected to become the future alongside generalised models like GPT-4 or Claude 3.5 Sonnet.\\n\\nThere is no doubt that OpenAI felt pressure as it made fine-tuning available for its latest model, GPT-4o mini.\\n\\n“Customise GPT-4o mini for your application with fine-tuning. Available today to tier 4 and 5 users, we plan to gradually expand access to all tiers. The first 2M training tokens a day are free, through Sept 23,” the company posted on X.\\n\\nMeanwhile, Zuckerberg has claimed that developers can run inference on Llama 3.1 405B on their own infrastructure at roughly 50% of the cost of using closed models like GPT-4o, for both user-facing and offline inference tasks.\\n\\nJealous Much?\\n\\nOne thing is clear, OpenAI can’t stay silent when its competitors are on the verge of releasing a new model. Throughout the day, the company has been emphasising safety and preparedness.\\n\\n“We won’t release a new model if it crosses a ‘medium’ risk threshold until we implement sufficient safety interventions,” the company said. OpenAI appears to be subtly suggesting that open-source models might present risks to society.\\n\\nMira Murati, the chief technology officer of OpenAI, during a recent interview at the AI Everywhere event at Dartmouth College, said that OpenAI gives the government early access to new AI models, and they have been in favour of more regulation.\\n\\n“We’ve been advocating for more regulation on frontier models, which will have these amazing capabilities and also have a downside because of misuse. We’ve been very open with policymakers and working with regulators on that,” she said.\\n\\nOn the other hand, many are concerned about potential regulations stifling innovation. “I hope foolish regulations like California’s proposed SB1047 don’t stop such innovations,” said Deeplearning.ai founder Andrew Ng on Llama 3.1 release.\\n\\nThank you Meta and the Llama team for your huge contributions to open-source! Llama 3.1 with increased context length and improved capabilities is a wonderful gift to everyone.\\n\\n\\n\\nI hope foolish regulations don't like California's proposed SB1047 don't stop such innovations. — Andrew Ng (@AndrewYNg) July 23, 2024\\n\\nMeanwhile, Meta has decided not to release its multimodal Llama AI model in the European Union due to regulatory concerns.\\n\\nThe company cited the lack of clarity and predictability in the EU’s regulatory framework for AI, which includes existing regulations like the General Data Protection Regulation and forthcoming ones such as the AI Act.\n",
            "                                                                                                                                                                                                                                                                                                                                                                                                                                                                                                                                                                                                                                                                                                                                                                                                                                                                                                                                                                                                                                                                                                                                                                                                                                                                                                                                                                                                                                                                                                                                                                                                                                                                                                                                                                                                                                                                                                                                                                                                                                                                                                                                                                                                                                                                                                                                                                                                                                                                                                                                                                                                                                                                                                                                                                                                                                                                                                                                                                                                                                                                                                                                                                                                                                                                                                                                                                                                                                                                                                                                                                                                                                                                                                                                                                                                                                                                                                                                                                                                                                                                                                                                                                                                                                                                                                                                                                                                                                                                                                                                                                                                                                                                                                                                                                                                                                                                                                                                                                                                                                                                                                                                                                                                                                                                                                                                                                                                                                                                                                                                                                                                                                                                                                                                                                                     Summer used to be a rather quiet time for big releases, but that’s all changed: companies are updating their catalogues mid-year to face the final stretch with new products. Even outside of devices: Meta’s AI has just taken a huge leap forward thanks to a new model. It’s called Call 3.1forgive the redundancy.\\n\\nThe all-out war on artificial intelligence has Open AI and Meta as two of the main contenders, not to mention Google and Anthropic, another pair of heavyweights in language models. However, only one of the four stands out in the open source arena: Meta has licensed its Llama models under open sourcealways with nuances. Including the most recent and capable, Llama 3.1.\\n\\nLlama 3.1 is divided into three versions depending on the capacity\\n\\n\\n\\n\\n\\nMeta’s new language model remains open source, although we already know that It is not completely open source: The company does not allow its use in a 100% free manner, the license has limits depending on the size of the company and Llama cannot be used as a basis for other language models. Llama 3.1 maintains these boundaries with 100% open source software.\\n\\nDespite the limitations, Llama 3.1 aims to be one of the key models for all developers looking to integrate a generative AI model at the device level and without the presence of the cloudTo ensure that the new model is suitable for almost any machine, Meta divides it into three versions:\\n\\nCall 3.1 405B It is the most powerful and capable, it can handle the huge amount of 405 billion parameters.\\n\\nIt is the most powerful and capable, it can handle the huge amount of 405 billion parameters. Call 3.1 70B For intermediate capacity devices, this model handles 70 billion parameters.\\n\\nFor intermediate capacity devices, this model handles 70 billion parameters. Call 31 8B. The most powerful of the three, perfect for low-capacity devices such as smartphones. 8 billion parameters.\\n\\nOne of the keys to Llama 3.1 is that it is a machine-adaptive language, so it can be easily integrated into applications and tools without the need to use an API; this is a huge savings for the developer, since they do not have to pay for the volume of queries (Llama 3.1 can also be used as an API in a system maintained by Meta). And it is also a significant improvement in privacy: the entire generation can be done without any data leaving the device.\\n\\nAccording to data shown by Mark Zuckerbergthe new Llama 3.1 705B model is particularly good at general knowledge, mathematics, tool usage, and multilingual translation. It has placed number one in AI benchmarks such as MMLU or IFEval, with a score that even surpasses Claude 3.5 Sonnetone of the most capable models to date.\\n\\nFollowing the announcement, Meta has made the new model available to developers: Llama 3.1 is available for download from their website. You can also try on the Meta pagealthough only in a country where the company’s artificial intelligence is currently in operation, such as the United States. In Europe, we are left without Meta AI. In addition, Hugging Face has an active chatbot with Llama 3.1 705B, although it is often too crowded.\\n\\nCover image | Midjourney edited\\n\\nMore information | Goal\\n\\nOn Xataka Android | Meta AI in WhatsApp can generate images with your face, this is how this new feature works\\n\\nOn Xataka Android | How to fix WiFi connection problems on an Android phone\n",
            "                                                                                                                                                                                                                                                                                                                                                                                                                                                                                                                                                                                                                                                                                                                                                                                                                                                                                                                                                                                                                                                                                                                                                                                                                                                                                                                                                                                                                                                                                                                                                                                                                                                                                                                                                                                                                                                                                                                                                                                                                                                                                                                                                                                                                                                                                                                                                                                                                                                                                                                                                                                                                                                                                                                                                                                                                                                                                                                                                                                                                                                                                                                                                                                                                                                                                                                                                                                                                                                                                                                                                                                                                                                                                                                                                                                                                                                                                                                                                                                                                                                                                                                                                                                                                                                                                                                                                                                                                                                                                                                                                                                                                                                                                                                                                                                                                                                                                                                                                                                                                                                                                                                                                                                                                                                                                                                                                                                                                                                                                                                                                                                                                                                                                                               Llama 3.1 is Metaâs most advanced AI model to date. The company asserts that this model has outperformed prominent models like GPT-4 and Anthropic’s Claude 3.5 Sonnet in various benchmarks read more\\n\\nMeta is expanding the capabilities of its Llama-based AI assistant to additional countries and languages. The assistant can now generate images based on a person's unique appearance and is available in 22 countries. Image Credit: Reuters\\n\\nMeta has announced the release of its latest AI model, Llama 3.1, on July 23, marking a significant milestone in the AI industry. Since April, Meta has been hinting at this release, and it has now come to fruition with the claim that Llama 3.1 is the largest-ever open-source AI model, surpassing top competitors in several benchmarks.\\n\\nLlama 3.1 is Metaâs most advanced AI model to date. The company asserts that this model has outperformed prominent models like GPT-4 and Anthropic’s Claude 3.5 Sonnet in various benchmarks.\\n\\nAdvertisement\\n\\nThis represents a significant leap from last yearâs Llama 2, which was only on par with older generations of AI models. Llama 3.1, however, is now competitive with the most advanced models available, excelling in several areas.\\n\\nIn a blog post, Meta CEO Mark Zuckerberg highlighted the parallels between open-source AI models and the evolution of Linux, which surpassed proprietary operating systems to become a dominant force in modern devices and infrastructure.\\n\\nHe emphasized that Metaâs investment in open-source AI is akin to its previous Open Compute Project, which led to substantial cost savings through collaborative innovation.\\n\\nZuckerberg believes that the release of Llama 3.1 marks an inflection point in the AI industry, predicting that most developers will soon prefer open-source models, driving advancements and efficiencies.\\n\\nHe anticipates that open-source development will become increasingly prevalent, much like the success of the Open Compute Project in data centre design and operations.\\n\\nLlama 3.1 will be accessible on all major cloud platforms, including AWS, Azure, Google, Oracle, and others. Companies like Scale.AI, Dell, Deloitte, and more are prepared to help enterprises adopt Llama and train custom models using their own data.\\n\\nHowever, Meta has not disclosed the specific source data used to train Llama 3.1, maintaining some secrecy around its training process.\\n\\nMeta is expanding the capabilities of its Llama-based AI assistant to additional countries and languages. The assistant can now generate images based on a person’s unique appearance and is available in 22 countries, including Argentina, Chile, Colombia, Ecuador, Mexico, Peru, and Cameroon.\\n\\nAdvertisement\\n\\nAdditionally, Meta AI supports new languages such as French, German, Hindi, Hindi-Romanised Script, Italian, Portuguese, and Spanish, with more languages to be added in the future. Users can interact with Meta AI across WhatsApp, Instagram, Messenger, and Facebook in these new languages.\\n\\nThe release of Llama 3.1 represents a significant advancement in the AI industry, positioning Meta as a leader in open-source AI development. By making Llama 3.1 widely accessible and supporting its adoption across various platforms and languages, Meta aims to foster innovation and efficiency in the AI community. This move is expected to catalyze a shift towards open-source AI models, much like the impact of open-source software in other domains.\n"
          ]
        }
      ],
      "source": [
        "# Concatenate all the top 10 news record's text content into a single string.\n",
        "news_text_content_string = news_data_with_text_df.to_string(columns=['Text'], header=False, index=False)\n",
        "print(news_text_content_string)"
      ]
    },
    {
      "cell_type": "code",
      "execution_count": null,
      "id": "eb826cab",
      "metadata": {
        "colab": {
          "base_uri": "https://localhost:8080/"
        },
        "id": "eb826cab",
        "outputId": "8676327e-5f2c-434a-d14e-b7f225e0336d"
      },
      "outputs": [
        {
          "output_type": "execute_result",
          "data": {
            "text/plain": [
              "12426"
            ]
          },
          "metadata": {},
          "execution_count": 15
        }
      ],
      "source": [
        "# Count the number of words in the top 10 news record's text content.\n",
        "len(re. findall(r'\\w+', news_text_content_string))"
      ]
    },
    {
      "cell_type": "code",
      "source": [
        "!pip install groq"
      ],
      "metadata": {
        "colab": {
          "base_uri": "https://localhost:8080/"
        },
        "id": "FU0cIwR2SfHc",
        "outputId": "9794a2b6-b42c-4135-c310-86a0d726235e"
      },
      "id": "FU0cIwR2SfHc",
      "execution_count": null,
      "outputs": [
        {
          "output_type": "stream",
          "name": "stdout",
          "text": [
            "Collecting groq\n",
            "  Downloading groq-0.9.0-py3-none-any.whl (103 kB)\n",
            "\u001b[?25l     \u001b[90m━━━━━━━━━━━━━━━━━━━━━━━━━━━━━━━━━━━━━━━━\u001b[0m \u001b[32m0.0/103.5 kB\u001b[0m \u001b[31m?\u001b[0m eta \u001b[36m-:--:--\u001b[0m\r\u001b[2K     \u001b[91m━━━━━━━━━━━━━━━━━━━━━━━━━━━━━━━━━━━━━━━\u001b[0m\u001b[91m╸\u001b[0m \u001b[32m102.4/103.5 kB\u001b[0m \u001b[31m3.0 MB/s\u001b[0m eta \u001b[36m0:00:01\u001b[0m\r\u001b[2K     \u001b[90m━━━━━━━━━━━━━━━━━━━━━━━━━━━━━━━━━━━━━━━━\u001b[0m \u001b[32m103.5/103.5 kB\u001b[0m \u001b[31m2.6 MB/s\u001b[0m eta \u001b[36m0:00:00\u001b[0m\n",
            "\u001b[?25hRequirement already satisfied: anyio<5,>=3.5.0 in /usr/local/lib/python3.10/dist-packages (from groq) (3.7.1)\n",
            "Requirement already satisfied: distro<2,>=1.7.0 in /usr/lib/python3/dist-packages (from groq) (1.7.0)\n",
            "Collecting httpx<1,>=0.23.0 (from groq)\n",
            "  Downloading httpx-0.27.0-py3-none-any.whl (75 kB)\n",
            "\u001b[?25l     \u001b[90m━━━━━━━━━━━━━━━━━━━━━━━━━━━━━━━━━━━━━━━━\u001b[0m \u001b[32m0.0/75.6 kB\u001b[0m \u001b[31m?\u001b[0m eta \u001b[36m-:--:--\u001b[0m\r\u001b[2K     \u001b[90m━━━━━━━━━━━━━━━━━━━━━━━━━━━━━━━━━━━━━━━━\u001b[0m \u001b[32m75.6/75.6 kB\u001b[0m \u001b[31m13.7 MB/s\u001b[0m eta \u001b[36m0:00:00\u001b[0m\n",
            "\u001b[?25hRequirement already satisfied: pydantic<3,>=1.9.0 in /usr/local/lib/python3.10/dist-packages (from groq) (2.8.2)\n",
            "Requirement already satisfied: sniffio in /usr/local/lib/python3.10/dist-packages (from groq) (1.3.1)\n",
            "Requirement already satisfied: typing-extensions<5,>=4.7 in /usr/local/lib/python3.10/dist-packages (from groq) (4.12.2)\n",
            "Requirement already satisfied: idna>=2.8 in /usr/local/lib/python3.10/dist-packages (from anyio<5,>=3.5.0->groq) (3.7)\n",
            "Requirement already satisfied: exceptiongroup in /usr/local/lib/python3.10/dist-packages (from anyio<5,>=3.5.0->groq) (1.2.2)\n",
            "Requirement already satisfied: certifi in /usr/local/lib/python3.10/dist-packages (from httpx<1,>=0.23.0->groq) (2024.7.4)\n",
            "Collecting httpcore==1.* (from httpx<1,>=0.23.0->groq)\n",
            "  Downloading httpcore-1.0.5-py3-none-any.whl (77 kB)\n",
            "\u001b[2K     \u001b[90m━━━━━━━━━━━━━━━━━━━━━━━━━━━━━━━━━━━━━━━━\u001b[0m \u001b[32m77.9/77.9 kB\u001b[0m \u001b[31m13.6 MB/s\u001b[0m eta \u001b[36m0:00:00\u001b[0m\n",
            "\u001b[?25hCollecting h11<0.15,>=0.13 (from httpcore==1.*->httpx<1,>=0.23.0->groq)\n",
            "  Downloading h11-0.14.0-py3-none-any.whl (58 kB)\n",
            "\u001b[2K     \u001b[90m━━━━━━━━━━━━━━━━━━━━━━━━━━━━━━━━━━━━━━━━\u001b[0m \u001b[32m58.3/58.3 kB\u001b[0m \u001b[31m10.8 MB/s\u001b[0m eta \u001b[36m0:00:00\u001b[0m\n",
            "\u001b[?25hRequirement already satisfied: annotated-types>=0.4.0 in /usr/local/lib/python3.10/dist-packages (from pydantic<3,>=1.9.0->groq) (0.7.0)\n",
            "Requirement already satisfied: pydantic-core==2.20.1 in /usr/local/lib/python3.10/dist-packages (from pydantic<3,>=1.9.0->groq) (2.20.1)\n",
            "Installing collected packages: h11, httpcore, httpx, groq\n",
            "Successfully installed groq-0.9.0 h11-0.14.0 httpcore-1.0.5 httpx-0.27.0\n"
          ]
        }
      ]
    },
    {
      "cell_type": "code",
      "execution_count": null,
      "id": "f8f068eb",
      "metadata": {
        "colab": {
          "base_uri": "https://localhost:8080/"
        },
        "id": "f8f068eb",
        "outputId": "646a24f0-4ab7-46fc-a5ae-991654fc335f"
      },
      "outputs": [
        {
          "output_type": "stream",
          "name": "stderr",
          "text": [
            "[nltk_data] Downloading package punkt to /root/nltk_data...\n",
            "[nltk_data]   Unzipping tokenizers/punkt.zip.\n"
          ]
        }
      ],
      "source": [
        "# Import necessary libraries\n",
        "from groq import Groq\n",
        "import platform\n",
        "import os\n",
        "\n",
        "import nltk\n",
        "nltk.download('punkt')\n",
        "from nltk.tokenize import word_tokenize"
      ]
    },
    {
      "cell_type": "code",
      "execution_count": null,
      "id": "3f40b76c",
      "metadata": {
        "id": "3f40b76c"
      },
      "outputs": [],
      "source": [
        "# Define the function to count the number of tokens.\n",
        "def count_tokens(stringname):\n",
        "    tokens = word_tokenize(stringname)\n",
        "    return len(tokens)"
      ]
    },
    {
      "cell_type": "code",
      "execution_count": null,
      "id": "0e8b7d79",
      "metadata": {
        "colab": {
          "base_uri": "https://localhost:8080/"
        },
        "id": "0e8b7d79",
        "outputId": "308bd278-5e93-4d9c-9c9d-79a151dac193"
      },
      "outputs": [
        {
          "output_type": "stream",
          "name": "stdout",
          "text": [
            "Number of tokens: 12869\n"
          ]
        }
      ],
      "source": [
        "# Display the number of tokens from the top 10 news record's text content.\n",
        "stringname = news_text_content_string\n",
        "\n",
        "token_count = count_tokens(stringname)\n",
        "print(f\"Number of tokens: {token_count}\")"
      ]
    },
    {
      "cell_type": "code",
      "execution_count": null,
      "id": "e3d84c7a",
      "metadata": {
        "id": "e3d84c7a"
      },
      "outputs": [],
      "source": [
        "# Define the function to divide the top 10 news record's text content into segments of 2000 tokens\n",
        "# with the overlap of 100 tokens to avoid losing information from the split.\n",
        "def break_up_file(tokens, chunk_size, overlap_size):\n",
        "    if len(tokens) <= chunk_size:\n",
        "        yield tokens\n",
        "    else:\n",
        "        chunk = tokens[:chunk_size]\n",
        "        yield chunk\n",
        "        yield from break_up_file(tokens[chunk_size-overlap_size:], chunk_size, overlap_size)\n",
        "\n",
        "def break_up_file_to_chunks(stringname, chunk_size=2000, overlap_size=100):\n",
        "    tokens = word_tokenize(stringname)\n",
        "    return list(break_up_file(tokens, chunk_size, overlap_size))"
      ]
    },
    {
      "cell_type": "code",
      "execution_count": null,
      "id": "b954e1b5",
      "metadata": {
        "colab": {
          "base_uri": "https://localhost:8080/"
        },
        "id": "b954e1b5",
        "outputId": "0dcb83e1-37e8-4fc4-9a5c-80b6583a7750"
      },
      "outputs": [
        {
          "output_type": "stream",
          "name": "stdout",
          "text": [
            "Chunk 0: 2000 tokens\n",
            "Chunk 1: 2000 tokens\n",
            "Chunk 2: 2000 tokens\n",
            "Chunk 3: 2000 tokens\n",
            "Chunk 4: 2000 tokens\n",
            "Chunk 5: 2000 tokens\n",
            "Chunk 6: 1469 tokens\n"
          ]
        }
      ],
      "source": [
        "# Trial run of dividing function.\n",
        "stringname = news_text_content_string\n",
        "\n",
        "chunks = break_up_file_to_chunks(stringname)\n",
        "for i, chunk in enumerate(chunks):\n",
        "    print(f\"Chunk {i}: {len(chunk)} tokens\")"
      ]
    },
    {
      "cell_type": "code",
      "execution_count": null,
      "id": "e058e5d4",
      "metadata": {
        "id": "e058e5d4"
      },
      "outputs": [],
      "source": [
        "# Define the function to convert tokenized text back to normal text prompts.\n",
        "def convert_to_detokenized_text(tokenized_text):\n",
        "    prompt_text = \" \".join(tokenized_text)\n",
        "    prompt_text = prompt_text.replace(\" 's\", \"'s\")\n",
        "    return prompt_text"
      ]
    },
    {
      "cell_type": "code",
      "execution_count": null,
      "id": "6e05909f",
      "metadata": {
        "id": "6e05909f"
      },
      "outputs": [],
      "source": [
        "# Configure the baseline configuration of the OpenAI library.\n",
        "import os\n",
        "os.environ['GROQ_API_KEY']=\"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\"\n"
      ]
    },
    {
      "cell_type": "code",
      "execution_count": null,
      "id": "1e3c29a2",
      "metadata": {
        "colab": {
          "base_uri": "https://localhost:8080/"
        },
        "id": "1e3c29a2",
        "outputId": "eb2758f1-6f07-42fe-dc80-64c479056f7e"
      },
      "outputs": [
        {
          "output_type": "stream",
          "name": "stdout",
          "text": [
            "Processing chunk 0\n",
            "ChatCompletion(id='chatcmpl-73ca894b-36fc-4829-9a85-d4e7c25cf857', choices=[Choice(finish_reason='stop', index=0, logprobs=None, message=ChatCompletionMessage(content='Here is a summary of the news content:\\n\\n**Meta AI Assistant Now Available in 22 Countries**\\n\\nMeta\\'s AI assistant, integrated into WhatsApp, Instagram, Messenger, and Facebook, is now operational in 22 countries, including recent additions in Latin America and Cameroon.\\n\\n**Llama 3.1 AI Model Released**\\n\\nMeta has released Llama 3.1, its latest open-source AI model, which competes with top AI models in areas like general knowledge, mathematics, and multilingual translation. The model is available on WhatsApp and the Meta AI website in the US.\\n\\n**Expansion of Meta AI Services**\\n\\nMeta has expanded its AI services to include new creative tools, such as the \"Image me\" prompt, which allows users to create images of themselves in various contexts. Additionally, Meta is improving its image creation tools with additional editing functions.\\n\\n**AI Integration into Meta Quest Headsets**\\n\\nMeta is preparing to integrate its generative AI technology into Meta Quest headsets in the US and Canada next month as a test feature, allowing for hands-free headset control and access to real-time information.\\n\\n**EU Users Not Yet Supported**\\n\\nDespite the growth of Meta AI\\'s services, the company has not extended its services to the European Union, citing EU regulators\\' advice to stop training future AI models using data sourced from EU users.\\n\\n**Partnership with Nvidia and Other Companies**\\n\\nMeta is partnering with Nvidia and other companies to provide computing chips and cloud computing platforms to support its AI models.\\n\\n**Open-Source Approach**\\n\\nMeta\\'s open-source approach to AI development is seen as a strategic move to promote fair technological progress and empower developers to innovate independently.\\n\\n**Financial Impact**\\n\\nMeta\\'s stock is down 3% on news of the release of Llama 3.1, but the company\\'s stock has gained 41% year-to-date and is trading at $488.69 per share.', role='assistant', function_call=None, tool_calls=None))], created=1721833008, model='llama-3.1-70b-versatile', object='chat.completion', system_fingerprint='fp_b3ae7e594e', usage=CompletionUsage(completion_tokens=379, prompt_tokens=2499, total_tokens=2878, completion_time=1.516, prompt_time=0.696048001, queue_time=None, total_time=2.212048001), x_groq={'id': 'req_01j3jkx95aebavcgyc9sq7tn3w'})\n",
            "Processing chunk 1\n",
            "ChatCompletion(id='chatcmpl-00c6f10d-06b1-4b26-b555-d9ecf2f69868', choices=[Choice(finish_reason='length', index=0, logprobs=None, message=ChatCompletionMessage(content=\"Meta has released Llama 3.1, its latest large language model (LLM), which is the world's largest open-source LLM. The model has been trained on a massive dataset and has achieved state-of-the-art results in various natural language processing tasks. Llama 3.1 is available in three sizes: 405B, 70B, and 8B, and can be used for a variety of applications such as text summarization, conversational agents, and coding assistants.\\n\\nThe model has been optimized for performance and can be run on a variety of hardware platforms, including GPUs and TPUs. Meta has also released a range of tools and resources to help developers get started with Llama 3.1, including a reference system, a developer portal, and a community forum.\\n\\nLlama 3.1 has been trained on a massive dataset of text from the internet and has achieved state-of-the-art results in various natural language processing tasks. The model has been fine-tuned for a range of tasks, including conversational dialogue, text summarization, and question answering.\\n\\nMeta has also announced that it will be releasing Llama 3.1 as an open-source model, allowing developers to use and modify the model for their own applications. The company has also announced that it will be providing a range of tools and resources to help developers get started with Llama 3.1, including a reference system, a developer portal, and a community forum.\\n\\nOverall, Llama 3.1 is a significant advancement in the field of natural language processing and has the potential to be used in a wide range of applications. With its open-source release, developers will be able to use and modify the model to create new and innovative applications.\\n\\nKey points:\\n\\n* Llama 3.1 is the world's largest open-source LLM\\n* The model has been trained on a massive dataset and has achieved state-of-the-art results in various natural language processing tasks\\n* Llama 3.1 is available in three sizes: 405B, 70B, and 8B\\n* The model can be used for a variety of applications such as text summarization, conversational agents, and coding assistants\\n* Meta has released a range of tools and resources to help developers get started with Llama 3.1\\n* Llama 3.1 has been optimized for performance and can be run on a variety of hardware platforms, including GPUs and\", role='assistant', function_call=None, tool_calls=None))], created=1721833011, model='llama-3.1-70b-versatile', object='chat.completion', system_fingerprint='fp_b3ae7e594e', usage=CompletionUsage(completion_tokens=500, prompt_tokens=2614, total_tokens=3114, completion_time=2.0, prompt_time=0.773588848, queue_time=None, total_time=2.773588848), x_groq={'id': 'req_01j3jkxbk2ejcvsg0v1xvxfj65'})\n",
            "Processing chunk 2\n",
            "ChatCompletion(id='chatcmpl-61d8d56b-d768-487a-835e-201478d80461', choices=[Choice(finish_reason='stop', index=0, logprobs=None, message=ChatCompletionMessage(content='Meta Platforms has released its most capable artificial intelligence (AI) model to date, Llama 3.1 405B, which is openly accessible and claims to rival the best closed-source models. The model has been trained on over 15 trillion tokens and has been optimized for security and safety. Meta has also released a request for comment on the Llama Stack API, a standard interface that will make it easier for third-party projects to leverage Llama models. The model is available for use on various platforms, including Meta.ai, WhatsApp, Groq, Perplexity, and Hugging Face Chat. The release of Llama 3.1 405B is significant as it represents a step forward in democratizing access to AI technology, making it easier for researchers and developers to build on state-of-the-art language AI without proprietary APIs or expensive licensing fees.', role='assistant', function_call=None, tool_calls=None))], created=1721833013, model='llama-3.1-70b-versatile', object='chat.completion', system_fingerprint='fp_b3ae7e594e', usage=CompletionUsage(completion_tokens=175, prompt_tokens=2504, total_tokens=2679, completion_time=0.7, prompt_time=0.666142559, queue_time=None, total_time=1.366142559), x_groq={'id': 'req_01j3jkxeqgejervkqgcmh4621s'})\n",
            "Processing chunk 3\n",
            "ChatCompletion(id='chatcmpl-ddcc89f9-a303-4e59-b486-54e13f965860', choices=[Choice(finish_reason='length', index=0, logprobs=None, message=ChatCompletionMessage(content=\"**Meta Unveils Llama 3.1, a Breakthrough in Open-Source AI**\\n\\nMeta has released Llama 3.1, a significant milestone in its commitment to open-source AI. This release marks a major step forward in democratizing access to advanced AI technology. Llama 3.1 includes three models: 405B, 70B, and 8B, with the 405B model competing with the most advanced closed models while offering better cost-efficiency.\\n\\n**Key Advantages of Open-Source AI**\\n\\n* Customization: Organizations can train and fine-tune models with their specific data.\\n* Independence: Avoids lock-in to closed vendors or specific cloud providers.\\n* Data security: Allows for local model deployment, enhancing data protection.\\n* Cost-efficiency: Llama 3.1 405B can be run at roughly half the cost of closed models like GPT-4.\\n* Ecosystem growth: Encourages innovation and collaboration across the industry.\\n\\n**Safety Concerns**\\n\\nAddressing safety concerns, Mark Zuckerberg argues that open-source AI is inherently safer due to increased transparency and scrutiny. However, some experts have raised concerns about the governance of open-weight models and the potential for misuse.\\n\\n**Availability**\\n\\nThe Llama 3.1 models are now accessible at llama.meta.com. Meta is partnering with major tech companies like Amazon, Databricks, and NVIDIA to provide development services. The models will be available across major cloud platforms, with companies such as Scale.AI, Dell, and Deloitte ready to assist in enterprise adoption.\\n\\n**Alternatives**\\n\\nFor those who want to use Llama 3.1 but don't have access to the open-source model, there are alternative options available, including:\\n\\n* Perplexity: Offers access to Llama 3.1 405B with a Pro plan for $20 per month.\\n* Hugging Face Chat: Provides access to a range of models, including Llama 3.1 405B, with a free account.\\n* Poe chat marketplace: Offers access to Llama 3.1 405B with a premium account for $17 per month.\\n\\n**Expert Insights**\\n\\n* Victor Botev, CTO and co-founder at Iris.ai, praises Llama 3.1 as a significant step forward in democratizing access to AI technology.\\n* Theo Priestley, technology futurist, keynote speaker, and author, raises concerns about the governance of\", role='assistant', function_call=None, tool_calls=None))], created=1721833017, model='llama-3.1-70b-versatile', object='chat.completion', system_fingerprint='fp_b3ae7e594e', usage=CompletionUsage(completion_tokens=500, prompt_tokens=2489, total_tokens=2989, completion_time=2.0, prompt_time=0.673838778, queue_time=None, total_time=2.673838778), x_groq={'id': 'req_01j3jkxgajfpp8erjk3n00cc3s'})\n",
            "Processing chunk 4\n",
            "ChatCompletion(id='chatcmpl-25accc54-828e-49c4-8906-1c029ccf5d2f', choices=[Choice(finish_reason='stop', index=0, logprobs=None, message=ChatCompletionMessage(content='Here is a summary of the news content:\\n\\n**Meta Unveils Llama 3.1, the Largest Open-Source Large Language Model**\\n\\nMeta has released Llama 3.1, the largest open-source large language model to date, with 405 billion neural \"weights\" or parameters. The model is capable of multimodal tasks and \"tool use\" and represents a significant engineering achievement. Llama 3.1 is the first open-source \"frontier model,\" a claim typically reserved for the biggest examples of AI code.\\n\\n**Key Innovations**\\n\\nThe Meta team made three key innovations in building and training Llama 3.1:\\n\\n1. **Dispensing with \"mixture of experts\"**: Meta opted for a standard decoder-only transformer model architecture, which makes the model more stable during training.\\n2. **Progressive training**: Meta developed a new scaling law that progressively increases both the amount of training data and compute, checking over multiple iterations to see how well the resulting trained model does on downstream tasks.\\n3. **Post-training process**: Meta used a combination of human feedback, supervised fine-tuning, and direct preference optimization to fine-tune the model and improve its performance.\\n\\n**Impact and Reception**\\n\\nLlama 3.1 has been praised by tech leaders, including Shopify\\'s CEO, who called it an \"incredible gift.\" Elon Musk also gave Meta\\'s Mark Zuckerberg credit for open-sourcing the model. The move is seen as a significant step towards open-source AI, which is expected to lead to more innovation and collaboration in the field.\\n\\n**WhatsApp to Get New Meta AI Features**\\n\\nIn related news, WhatsApp is set to get several new AI features, including image-generation capabilities and multilingual support for its AI assistant. The features will be available for both Android and iOS, but not all of them will be released globally.\\n\\n**Key Takeaways**\\n\\n* Meta has released Llama 3.1, the largest open-source large language model to date.\\n* The model represents a significant engineering achievement and has been praised by tech leaders.\\n* Llama 3.1 is expected to lead to more innovation and collaboration in the field of AI.\\n* WhatsApp is set to get several new AI features, including image-generation capabilities and multilingual support.', role='assistant', function_call=None, tool_calls=None))], created=1721833020, model='llama-3.1-70b-versatile', object='chat.completion', system_fingerprint='fp_b3ae7e594e', usage=CompletionUsage(completion_tokens=459, prompt_tokens=2433, total_tokens=2892, completion_time=1.8359999999999999, prompt_time=0.758944134, queue_time=None, total_time=2.594944134), x_groq={'id': 'req_01j3jkxmsfejf97qfjx631469w'})\n",
            "Processing chunk 5\n",
            "ChatCompletion(id='chatcmpl-2bc06f52-156e-46cf-8aba-5d52e49c1835', choices=[Choice(finish_reason='stop', index=0, logprobs=None, message=ChatCompletionMessage(content=\"Here's a summary of the news content:\\n\\n**Meta Introduces New AI Features on WhatsApp**\\n\\nMeta has announced several new AI-powered features on WhatsApp, including:\\n\\n1. **Imagine Me**: An AI-generated avatar feature that allows users to create images of themselves in different settings and styles.\\n2. **Imagine Edit**: A feature that enables users to edit AI-generated images with text prompts.\\n3. **Meta Llama 3.1**: A new AI model that can handle complex queries, solve math problems, and write code more efficiently.\\n\\n**Global Rollout of Meta AI Features**\\n\\nThe new AI features will be rolled out globally, with some features available in beta. The features will be available in multiple languages, including French, German, Hindi, Italian, Portuguese, and Spanish.\\n\\n**Meta's Open-Source AI Model**\\n\\nMeta has released its largest and most advanced AI model, Llama 3.1, as an open-source resource. The model has 405 billion parameters and outperforms other leading AI models.\\n\\n**Industry Leaders Weigh In**\\n\\nIndustry leaders, including Mark Zuckerberg and Andrej Karpathy, have praised the release of Llama 3.1, citing its potential to become the industry standard for AI. They also envision a future where AI agents will be ubiquitous and managed by a single entity.\\n\\n**Concerns Over Safety and Regulation**\\n\\nOpenAI has emphasized the importance of safety and regulation in the development of AI models, suggesting that open-source models may present risks to society. Meta has countered by highlighting the benefits of open-source AI development, including greater customization and affordability.\\n\\n**Impact on the Future of AI**\\n\\nThe release of Llama 3.1 is expected to have a significant impact on the future of AI, with potential applications in various industries, including healthcare, finance, and education. The development of smaller, more specialized AI models is also expected to become more prevalent.\", role='assistant', function_call=None, tool_calls=None))], created=1721833023, model='llama-3.1-70b-versatile', object='chat.completion', system_fingerprint='fp_b3ae7e594e', usage=CompletionUsage(completion_tokens=386, prompt_tokens=2484, total_tokens=2870, completion_time=1.544, prompt_time=0.750287967, queue_time=None, total_time=2.294287967), x_groq={'id': 'req_01j3jkxqq8e1p8j3zqqwh0d4ym'})\n",
            "Processing chunk 6\n",
            "ChatCompletion(id='chatcmpl-d115011d-6cf2-4ad7-8579-ffe925d7239b', choices=[Choice(finish_reason='stop', index=0, logprobs=None, message=ChatCompletionMessage(content=\"Here is a summary of the news content:\\n\\nMeta has released its latest AI model, Llama 3.1, which is the largest-ever open-source AI model, surpassing top competitors in several benchmarks. Llama 3.1 is Meta's most advanced AI model to date, outperforming prominent models like GPT-4 and Anthropic's Claude 3.5 Sonnet. The model is available for download and can be used on all major cloud platforms. Meta CEO Mark Zuckerberg believes that the release of Llama 3.1 marks an inflection point in the AI industry, predicting that most developers will soon prefer open-source models, driving advancements and efficiencies.\\n\\nHowever, OpenAI has expressed concerns about the potential risks of open-source models, suggesting that they may present risks to society. OpenAI's chief technology officer, Mira Murati, has stated that the company has been advocating for more regulation on frontier models, which will have amazing capabilities and also have a downside because of misuse.\\n\\nMeanwhile, Meta has decided not to release its multimodal Llama AI model in the European Union due to regulatory concerns. The company has also expanded the capabilities of its Llama-based AI assistant to additional countries and languages, including the ability to generate images based on a person's unique appearance.\\n\\nOverall, the release of Llama 3.1 represents a significant advancement in the AI industry, positioning Meta as a leader in open-source AI development. However, concerns about regulation and potential risks associated with open-source models remain a topic of discussion.\", role='assistant', function_call=None, tool_calls=None))], created=1721833025, model='llama-3.1-70b-versatile', object='chat.completion', system_fingerprint='fp_b3ae7e594e', usage=CompletionUsage(completion_tokens=312, prompt_tokens=1879, total_tokens=2191, completion_time=1.248, prompt_time=0.535778668, queue_time=None, total_time=1.783778668), x_groq={'id': 'req_01j3jkxt7ce1psn259m4gc7bhq'})\n"
          ]
        }
      ],
      "source": [
        "stringname = news_text_content_string\n",
        "\n",
        "prompt_response = []\n",
        "chunks = break_up_file_to_chunks(stringname)\n",
        "\n",
        "client=Groq()\n",
        "for i, chunk in enumerate(chunks):\n",
        "    print(\"Processing chunk \" + str(i))\n",
        "    prompt_request = \"Summarize this news content: \" + convert_to_detokenized_text(chunks[i])\n",
        "    response = client.chat.completions.create(\n",
        "        messages=[\n",
        "        # Set an optional system message. This sets the behavior of the\n",
        "        # assistant and can be used to provide specific instructions for\n",
        "        # how it should behave throughout the conversation.\n",
        "        {\"role\": \"system\", \"content\": \"you are an Expert news summarizer AI assistant.\"},\n",
        "        # Set a user message for the assistant to respond to.\n",
        "        {\n",
        "            \"role\": \"user\",\n",
        "            \"content\": prompt_request,\n",
        "        },\n",
        "    ],\n",
        "\n",
        "            model=\"llama-3.1-70b-versatile\",\n",
        "            temperature=.5, # Default is 1.\n",
        "            max_tokens=500,\n",
        "            top_p=1 # Default is 0.5.\n",
        "    )\n",
        "    print(response)\n",
        "    prompt_response.append(response.choices[0].message.content.strip())"
      ]
    },
    {
      "cell_type": "code",
      "execution_count": null,
      "id": "c53b1c83",
      "metadata": {
        "id": "c53b1c83"
      },
      "outputs": [],
      "source": [
        "# Define the prompt to perform summarization into 1,500 words for each summarized content.\n",
        "prompt_request = \"Consolidate these news content summaries into 1500 words sentences: \" + str(prompt_response)"
      ]
    },
    {
      "cell_type": "code",
      "execution_count": null,
      "id": "524f6f13",
      "metadata": {
        "id": "524f6f13"
      },
      "outputs": [],
      "source": [
        "response = client.chat.completions.create(\n",
        "        messages=[\n",
        "        # Set an optional system message. This sets the behavior of the\n",
        "        # assistant and can be used to provide specific instructions for\n",
        "        # how it should behave throughout the conversation.\n",
        "        {\"role\": \"system\", \"content\": \"you are an Expert news summarizer AI assistant.\"},\n",
        "        # Set a user message for the assistant to respond to.\n",
        "        {\n",
        "            \"role\": \"user\",\n",
        "            \"content\": prompt_request,\n",
        "        },\n",
        "    ],\n",
        "\n",
        "            model=\"mixtral-8x7b-32768\",\n",
        "            temperature=.5, # Default is 1.\n",
        "            max_tokens=500,\n",
        "            top_p=1 # Default is 0.5.\n",
        "    )"
      ]
    },
    {
      "cell_type": "code",
      "execution_count": null,
      "id": "f0f342ab",
      "metadata": {
        "colab": {
          "base_uri": "https://localhost:8080/"
        },
        "id": "f0f342ab",
        "outputId": "61fafa51-a758-492f-985f-702b488f4766"
      },
      "outputs": [
        {
          "output_type": "stream",
          "name": "stdout",
          "text": [
            "Meta, a leading technology company, has recently made several significant advancements in the field of artificial intelligence (AI). The company has released its latest open-source AI model, Llama 3.1, which is the largest-ever open-source AI model, surpassing top competitors in several benchmarks. The model is available for download and can be used on all major cloud platforms. Meta CEO Mark Zuckerberg believes that the release of Llama 3.1 marks an inflection point in the AI industry, predicting that most developers will soon prefer open-source models, driving advancements and efficiencies.\n",
            "\n",
            "Llama 3.1 is Meta's most advanced AI model to date, outperforming prominent models like GPT-4 and Anthropic's Claude 3.5 Sonnet. The model includes three models: 405B, 70B, and 8B, with the 405B model competing with the most advanced closed models while offering better cost-efficiency. Llama 3.1 has been optimized for performance and can be run on a variety of hardware platforms, including GPUs and TPUs. Meta has also released a range of tools and resources to help developers get started with Llama 3.1, including a reference system, a developer portal, and a community forum.\n",
            "\n",
            "The release of Llama 3.1 is expected to have a significant impact on the future of AI, with potential applications in various industries, including healthcare, finance, and education. The development of smaller, more specialized AI models is also expected to become more prevalent. However, OpenAI has expressed concerns about the potential risks of open-source models, suggesting that they may present risks to society. OpenAI's chief technology officer, Mira Murati, has stated that the company has been advocating for more regulation on frontier models, which will have amazing capabilities and also have a downside because of misuse.\n",
            "\n",
            "In addition to the release of Llama 3.1, Meta has also unveiled several new AI-powered features on WhatsApp, its popular messaging platform. The new features include \"Imagine Me,\" an AI-generated avatar feature that allows users to create images of themselves in different settings and styles, and \"Imagine Edit,\" a feature that enables users to edit AI\n"
          ]
        }
      ],
      "source": [
        "# Display the final summary from the top 10 news record's text content.\n",
        "news_content_summary = response.choices[0].message.content.strip()\n",
        "print(news_content_summary)"
      ]
    },
    {
      "cell_type": "code",
      "execution_count": null,
      "id": "197f6c3e",
      "metadata": {
        "id": "197f6c3e"
      },
      "outputs": [],
      "source": [
        "# Select the necessary columns and convert the dataframe into HTML for showing in the email.\n",
        "news_data_with_text_df_1 = news_data_with_text_df[[\"Title\", \"Media\", \"Timestamp\", \"Description\", \"Link\"]]\n",
        "news_data_with_text_df_1_html = news_data_with_text_df_1.to_html(index=False)"
      ]
    },
    {
      "cell_type": "code",
      "execution_count": null,
      "id": "5b70dfbb",
      "metadata": {
        "id": "5b70dfbb",
        "colab": {
          "base_uri": "https://localhost:8080/"
        },
        "outputId": "0c2f165e-703c-4bd0-d9d6-b6568676ee6c"
      },
      "outputs": [
        {
          "output_type": "execute_result",
          "data": {
            "text/plain": [
              "{'success': True, 'message_ids': ['44d22200-49cd-11ef-0040-f163318577ae']}"
            ]
          },
          "metadata": {},
          "execution_count": 29
        }
      ],
      "source": [
        "# Email the GPT news summary with the news source reference table via MailJet.\n",
        "import os\n",
        "\n",
        "import mailtrap as mt\n",
        "\n",
        "mail = mt.Mail(\n",
        "    sender=mt.Address(email=\"mailtrap@demomailtrap.com\", name=\"Mailtrap Test\"),\n",
        "    to=[mt.Address(email=\"visioxai65@gmail.com\")],\n",
        "    subject=\"GPT News Summary of Today!\",\n",
        "    html=\"<h3>Here is the news summary of GPT for today.</h3>{}<br><br> \\\n",
        "                   <h3>GPT News Summary Sources</h3>{}\" \\\n",
        "                   .format(news_content_summary, news_data_with_text_df_1_html),\n",
        "    category=\"Integration Test\",\n",
        ")\n",
        "\n",
        "client = mt.MailtrapClient(token=\"84a8546e84eec8388528c4199a0b16fa\")\n",
        "client.send(mail)\n",
        "\n",
        "\n"
      ]
    },
    {
      "cell_type": "code",
      "source": [],
      "metadata": {
        "id": "UDDcygt4OIDa"
      },
      "id": "UDDcygt4OIDa",
      "execution_count": null,
      "outputs": []
    }
  ],
  "metadata": {
    "kernelspec": {
      "display_name": "Python 3",
      "name": "python3"
    },
    "language_info": {
      "codemirror_mode": {
        "name": "ipython",
        "version": 3
      },
      "file_extension": ".py",
      "mimetype": "text/x-python",
      "name": "python",
      "nbconvert_exporter": "python",
      "pygments_lexer": "ipython3",
      "version": "3.10.9"
    },
    "colab": {
      "provenance": [],
      "gpuType": "T4"
    },
    "accelerator": "GPU"
  },
  "nbformat": 4,
  "nbformat_minor": 5
}